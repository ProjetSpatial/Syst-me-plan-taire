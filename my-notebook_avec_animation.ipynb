{
 "cells": [
  {
   "cell_type": "code",
   "execution_count": 1,
   "metadata": {},
   "outputs": [
    {
     "name": "stdout",
     "output_type": "stream",
     "text": [
      "pygame 1.9.4\n",
      "Hello from the pygame community. https://www.pygame.org/contribute.html\n"
     ]
    }
   ],
   "source": [
    "import random\n",
    "import math\n",
    "from tkinter import *\n",
    "import pygame\n",
    "from pygame.locals import *"
   ]
  },
  {
   "cell_type": "markdown",
   "metadata": {},
   "source": [
    "simal = planetesimal\n",
    "\n",
    "one_... = fonction pour un seul planetesimal\n",
    "\n",
    "pos = position\n",
    "\n",
    "init = initial"
   ]
  },
  {
   "cell_type": "code",
   "execution_count": 2,
   "metadata": {},
   "outputs": [],
   "source": [
    "def one_simal():\n",
    "    taille=0\n",
    "    taille = random.randint(1,30)\n",
    "    return taille"
   ]
  },
  {
   "cell_type": "code",
   "execution_count": 3,
   "metadata": {},
   "outputs": [
    {
     "data": {
      "text/plain": [
       "24"
      ]
     },
     "execution_count": 3,
     "metadata": {},
     "output_type": "execute_result"
    }
   ],
   "source": [
    "one_simal()"
   ]
  },
  {
   "cell_type": "code",
   "execution_count": 4,
   "metadata": {},
   "outputs": [],
   "source": [
    "def simal_taille(n):\n",
    "    #n : nombre de planetesimaux choisis\n",
    "    list_size = list()\n",
    "    for _ in range(n):\n",
    "        list_size.append(one_simal())\n",
    "    return list_size"
   ]
  },
  {
   "cell_type": "code",
   "execution_count": 5,
   "metadata": {},
   "outputs": [
    {
     "data": {
      "text/plain": [
       "[30, 29, 5, 8, 26, 10, 4, 30, 20, 11, 16, 7, 30, 8, 1, 23, 10]"
      ]
     },
     "execution_count": 5,
     "metadata": {},
     "output_type": "execute_result"
    }
   ],
   "source": [
    "simal_taille(17)"
   ]
  },
  {
   "cell_type": "code",
   "execution_count": 6,
   "metadata": {},
   "outputs": [],
   "source": [
    "def one_simal_pos_init(ray_min, ray_max):\n",
    "    x = random.randint(1, 1000) * random.choice([-1, 1]) #position sur l axe x\n",
    "    y = random.randint(1, 1000) * random.choice([-1, 1]) #position sur l axe y\n",
    "    \n",
    "    while math.sqrt(x*x + y*y) > ray_max or math.sqrt(x*x + y*y) < ray_min:\n",
    "        x = random.randint(1, 1000) * random.choice([-1, 1])\n",
    "        y = random.randint(1, 1000) * random.choice([-1, 1])\n",
    "    \n",
    "    return (x,y)"
   ]
  },
  {
   "cell_type": "code",
   "execution_count": 7,
   "metadata": {},
   "outputs": [
    {
     "data": {
      "text/plain": [
       "(21, -21)"
      ]
     },
     "execution_count": 7,
     "metadata": {},
     "output_type": "execute_result"
    }
   ],
   "source": [
    "one_simal_pos_init(10, 70)"
   ]
  },
  {
   "cell_type": "code",
   "execution_count": 8,
   "metadata": {},
   "outputs": [],
   "source": [
    "def simal_pos_init(n, ray_min, ray_max):\n",
    "    list_simal_pos = list()\n",
    "    for _ in range(n):\n",
    "        list_simal_pos.append(one_simal_pos_init(ray_min, ray_max))\n",
    "    return list_simal_pos"
   ]
  },
  {
   "cell_type": "code",
   "execution_count": 9,
   "metadata": {},
   "outputs": [
    {
     "data": {
      "text/plain": [
       "[(10, 9),\n",
       " (-22, -17),\n",
       " (-35, 5),\n",
       " (7, 17),\n",
       " (10, -29),\n",
       " (31, -9),\n",
       " (23, 8),\n",
       " (-24, -16),\n",
       " (25, 6),\n",
       " (3, 31),\n",
       " (15, 6),\n",
       " (11, -17),\n",
       " (-27, -18),\n",
       " (-3, 24),\n",
       " (13, -25),\n",
       " (-11, -28),\n",
       " (25, -14),\n",
       " (14, -28),\n",
       " (12, 26)]"
      ]
     },
     "execution_count": 9,
     "metadata": {},
     "output_type": "execute_result"
    }
   ],
   "source": [
    "simal_pos_init(19, 7, 36)"
   ]
  },
  {
   "cell_type": "code",
   "execution_count": 10,
   "metadata": {},
   "outputs": [],
   "source": [
    "densite = 3e12 #kg/km^3 densite des planetesimaux"
   ]
  },
  {
   "cell_type": "code",
   "execution_count": 11,
   "metadata": {},
   "outputs": [],
   "source": [
    "def one_simal_masse(densite):\n",
    "    rayon = one_simal()\n",
    "    return densite * (math.pi/6) * rayon * rayon * rayon"
   ]
  },
  {
   "cell_type": "code",
   "execution_count": 12,
   "metadata": {},
   "outputs": [
    {
     "data": {
      "text/plain": [
       "1.0774092005486194e+16"
      ]
     },
     "execution_count": 12,
     "metadata": {},
     "output_type": "execute_result"
    }
   ],
   "source": [
    "one_simal_masse(densite)"
   ]
  },
  {
   "cell_type": "code",
   "execution_count": 13,
   "metadata": {},
   "outputs": [],
   "source": [
    "def simal_masse(n, densite):\n",
    "    list_simal_masse = list()\n",
    "    for _ in range(n):\n",
    "        list_simal_masse.append(one_simal_masse(densite))\n",
    "    return list_simal_masse"
   ]
  },
  {
   "cell_type": "code",
   "execution_count": 14,
   "metadata": {},
   "outputs": [
    {
     "data": {
      "text/plain": [
       "[538783140090649.44,\n",
       " 42411500823462.2,\n",
       " 6433981754551896.0,\n",
       " 1.2566370614359172e+16,\n",
       " 5301437602932775.0,\n",
       " 1.2566370614359172e+16,\n",
       " 1570796326794896.5,\n",
       " 4310265120725195.5,\n",
       " 1145110522233479.5,\n",
       " 1570796326794896.5,\n",
       " 100530964914873.38,\n",
       " 1570796326794.8965,\n",
       " 3.831015161420074e+16,\n",
       " 5301437602932775.0,\n",
       " 42411500823462.2,\n",
       " 1.2566370614359172e+16,\n",
       " 1.6725839287712058e+16,\n",
       " 3.4482120965801564e+16,\n",
       " 9160884177867836.0,\n",
       " 2714336052701581.0,\n",
       " 2.7608316239747104e+16,\n",
       " 3.0917984100303948e+16,\n",
       " 3451039529968388.0,\n",
       " 196349540849362.06]"
      ]
     },
     "execution_count": 14,
     "metadata": {},
     "output_type": "execute_result"
    }
   ],
   "source": [
    "simal_masse(24, densite)"
   ]
  },
  {
   "cell_type": "code",
   "execution_count": 15,
   "metadata": {},
   "outputs": [],
   "source": [
    "def simal_masse_taille(n):\n",
    "    taille = simal_taille(n)\n",
    "    masse = simal_masse(n,densite)\n",
    "    list_masse_taille = list()\n",
    "    \n",
    "    for i in range(n):\n",
    "        list_masse_taille.append((taille[i], masse[i]))\n",
    "    \n",
    "    return list_masse_taille"
   ]
  },
  {
   "cell_type": "code",
   "execution_count": 16,
   "metadata": {},
   "outputs": [
    {
     "data": {
      "text/plain": [
       "[(22, 2714336052701581.0),\n",
       " (6, 2.171468842161265e+16),\n",
       " (14, 3451039529968388.0),\n",
       " (17, 339292006587697.6),\n",
       " (9, 2.7608316239747104e+16),\n",
       " (6, 2.7608316239747104e+16),\n",
       " (19, 42411500823462.2),\n",
       " (23, 1.2566370614359172e+16),\n",
       " (15, 4.24115008234622e+16),\n",
       " (23, 1.2566370614359172e+16),\n",
       " (11, 2714336052701581.0),\n",
       " (12, 1.0774092005486194e+16),\n",
       " (27, 4.24115008234622e+16),\n",
       " (23, 1.9111878908113504e+16),\n",
       " (14, 3.0917984100303948e+16),\n",
       " (12, 3.0917984100303948e+16),\n",
       " (29, 3.4482120965801564e+16)]"
      ]
     },
     "execution_count": 16,
     "metadata": {},
     "output_type": "execute_result"
    }
   ],
   "source": [
    "simal_masse_taille(17)"
   ]
  },
  {
   "cell_type": "code",
   "execution_count": 17,
   "metadata": {},
   "outputs": [],
   "source": [
    "def vitesse_one_simal(ray_min, ray_max):\n",
    "    masse = one_simal_masse(densite)\n",
    "    x, y = one_simal_pos_init(ray_min, ray_max)\n",
    "    G = 6.67*10**-11\n",
    "    d = (x*x + y*y)**0.5\n",
    "    v = (G*masse / d)**0.5 / d\n",
    "    return v"
   ]
  },
  {
   "cell_type": "code",
   "execution_count": 18,
   "metadata": {},
   "outputs": [
    {
     "data": {
      "text/plain": [
       "3.342670759481896"
      ]
     },
     "execution_count": 18,
     "metadata": {},
     "output_type": "execute_result"
    }
   ],
   "source": [
    "vitesse_one_simal(20, 70)"
   ]
  },
  {
   "cell_type": "code",
   "execution_count": 19,
   "metadata": {},
   "outputs": [],
   "source": [
    "def dict_simal(n, ray_min, ray_max, densite):\n",
    "    simal = dict()\n",
    "    for i in range(1, n+1):\n",
    "        simal[i] = (\"taille:\",one_simal(), \"position:\",one_simal_pos_init(ray_min, ray_max), \"masse:\",one_simal_masse(densite))\n",
    "    return simal"
   ]
  },
  {
   "cell_type": "code",
   "execution_count": 20,
   "metadata": {
    "scrolled": true
   },
   "outputs": [
    {
     "data": {
      "text/plain": [
       "{1: ('taille:', 16, 'position:', (-1, -33), 'masse:', 1.9111878908113504e+16),\n",
       " 2: ('taille:', 25, 'position:', (56, 2), 'masse:', 5301437602932775.0),\n",
       " 3: ('taille:', 14, 'position:', (18, 34), 'masse:', 2090729910964007.2),\n",
       " 4: ('taille:', 13, 'position:', (39, -43), 'masse:', 339292006587697.6),\n",
       " 5: ('taille:', 8, 'position:', (16, -28), 'masse:', 1.6725839287712058e+16),\n",
       " 6: ('taille:', 16, 'position:', (33, -42), 'masse:', 100530964914873.38),\n",
       " 7: ('taille:', 28, 'position:', (-14, 31), 'masse:', 100530964914873.38),\n",
       " 8: ('taille:', 2, 'position:', (22, 16), 'masse:', 12566370614359.172),\n",
       " 9: ('taille:', 9, 'position:', (-5, -19), 'masse:', 196349540849362.06),\n",
       " 10: ('taille:', 12, 'position:', (26, 10), 'masse:', 5301437602932775.0),\n",
       " 11: ('taille:', 5, 'position:', (23, 51), 'masse:', 538783140090649.44),\n",
       " 12: ('taille:', 8, 'position:', (-2, 41), 'masse:', 3.4482120965801564e+16),\n",
       " 13: ('taille:', 19, 'position:', (-39, 17), 'masse:', 1.4547144782447536e+16),\n",
       " 14: ('taille:', 1, 'position:', (12, 56), 'masse:', 4.24115008234622e+16),\n",
       " 15: ('taille:', 28, 'position:', (11, -54), 'masse:', 3451039529968388.0),\n",
       " 16: ('taille:', 26, 'position:', (-10, 50), 'masse:', 7717322353543327.0),\n",
       " 17: ('taille:', 14, 'position:', (-40, 34), 'masse:', 804247719318987.0),\n",
       " 18: ('taille:', 9, 'position:', (22, -25), 'masse:', 4310265120725195.5),\n",
       " 19: ('taille:', 30, 'position:', (-42, -25), 'masse:', 1570796326794.8965),\n",
       " 20: ('taille:', 14, 'position:', (45, -17), 'masse:', 1570796326794.8965),\n",
       " 21: ('taille:', 14, 'position:', (-40, 41), 'masse:', 2.454369260617026e+16),\n",
       " 22: ('taille:', 29, 'position:', (-12, -51), 'masse:', 3.831015161420074e+16),\n",
       " 23: ('taille:', 25, 'position:', (-19, 39), 'masse:', 3.4482120965801564e+16),\n",
       " 24: ('taille:', 4, 'position:', (29, -2), 'masse:', 1.4547144782447536e+16)}"
      ]
     },
     "execution_count": 20,
     "metadata": {},
     "output_type": "execute_result"
    }
   ],
   "source": [
    "dict_simal(24, 5, 60, densite)"
   ]
  },
  {
   "cell_type": "code",
   "execution_count": 21,
   "metadata": {},
   "outputs": [],
   "source": [
    "def one_simal_pos_time(ray_min, ray_max,time, v):\n",
    "    x, y = one_simal_pos_init(ray_min, ray_max)\n",
    "    if x > 0:\n",
    "        angle_init = math.atan(y/x)\n",
    "    else:\n",
    "        angle_init = math.pi + math.atan(y/x)\n",
    "    list_pos = list()\n",
    "    list_pos.append((x,y))\n",
    "    d = math.sqrt(x*x+y*y)\n",
    "    \n",
    "    for t in range(1,time+1):\n",
    "        angle = angle_init + v*t\n",
    "        x = math.cos(angle) * d\n",
    "        y = math.sin(angle) * d\n",
    "        list_pos.append((int(x),int(y)))\n",
    "    \n",
    "    return list_pos"
   ]
  },
  {
   "cell_type": "code",
   "execution_count": 22,
   "metadata": {
    "scrolled": true
   },
   "outputs": [
    {
     "data": {
      "text/plain": [
       "[(8, 4),\n",
       " (2, 8),\n",
       " (-4, 8),\n",
       " (-8, 2),\n",
       " (-8, -3),\n",
       " (-2, -8),\n",
       " (3, -8),\n",
       " (8, -2),\n",
       " (8, 3),\n",
       " (2, 8)]"
      ]
     },
     "execution_count": 22,
     "metadata": {},
     "output_type": "execute_result"
    }
   ],
   "source": [
    "one_simal_pos_time(3, 25, 9, math.pi/4)"
   ]
  },
  {
   "cell_type": "code",
   "execution_count": 23,
   "metadata": {},
   "outputs": [],
   "source": [
    "def simal_pos_time(n, ray_min, ray_max, time, v):\n",
    "    dict_pos = dict()\n",
    "    for i in range(n):\n",
    "        dict_pos[i]=one_simal_pos_time(ray_min, ray_max, time, v)\n",
    "    return  dict_pos"
   ]
  },
  {
   "cell_type": "code",
   "execution_count": null,
   "metadata": {},
   "outputs": [
    {
     "data": {
      "text/plain": [
       "{0: [(-22, 9), (9, -21), (8, 22), (-21, -9), (22, -8), (-9, 21)],\n",
       " 1: [(-40, -21), (43, -13), (-20, 40), (-13, -43), (40, 21), (-43, 13)],\n",
       " 2: [(-6, 32), (-18, -26), (32, 5), (-26, 18), (5, -32), (18, 26)],\n",
       " 3: [(41, 8), (-34, 23), (7, -41), (23, 34), (-41, -7), (34, -23)],\n",
       " 4: [(-22, 23), (0, -31), (23, 21), (-31, 0), (22, -22), (0, 31)]}"
      ]
     },
     "execution_count": 24,
     "metadata": {},
     "output_type": "execute_result"
    }
   ],
   "source": [
    "simal_pos_time(5, 20, 70, 5, 3*math.pi / 4)"
   ]
  },
  {
   "cell_type": "code",
   "execution_count": null,
   "metadata": {},
   "outputs": [],
   "source": [
    "def collision(n, ray_min, ray_max, time, v):\n",
    "    plusieurs_pos = plusieurs_simal_pos_time(n, ray_min, ray_max, time, v)\n",
    "    masse_taille = simal_masse_taille(n)\n",
    "    new_pos = list()\n",
    "    for t in range (time):  \n",
    "        for i in range(n):    \n",
    "            x_i, y_i = plusieurs_pos[t][i]\n",
    "            masse_i, taille_i = masse_taille[i]\n",
    "            \n",
    "            for e in range(n):\n",
    "                x_n, y_n = plusieurs_pos[t][n]\n",
    "                masse_n ,taille_n = masse_taille[n]\n",
    "                \n",
    "                if x_i - x_n <= 5 and y_i - y_n <=5:\n",
    "                    plusieurs_pos.remove[i]\n",
    "                    plusieurs_pos.remove[e]\n",
    "                    plusieurs_pos.append[((x_i + x_n)/2, (y_i + y_n)/2)]\n",
    "                    s\n",
    "                    masse_taille.remove[i]\n",
    "                    masse_taille.remove[e]\n",
    "                    masse_taille.append[((masse_i+masse_n),(taille_i+taille_n))]"
   ]
  },
  {
   "cell_type": "code",
   "execution_count": null,
   "metadata": {},
   "outputs": [],
   "source": [
    "blue = (0,0,255)\n",
    "yellow = (255,255,0)\n",
    "brown = (139,69,19)\n",
    "tan = (210,180,140)\n",
    "\n",
    "pygame.init()\n",
    "\n",
    "FPS = 9\n",
    "\n",
    "fenetre = pygame.display.set_mode((1000, 500))\n",
    "pygame.display.set_caption(\"Système Planétaire\")\n",
    "clock = pygame.time.Clock()\n",
    "\n",
    "fenetre.fill(blue)\n",
    "star = pygame.draw.circle(fenetre, yellow, (500, 250 ), 50 )\n",
    "\n",
    "n=500\n",
    "ray_min = 200\n",
    "ray_max = 400\n",
    "time  = 100\n",
    "ray = 15\n",
    "v = (math.pi)/15\n",
    "t=0\n",
    "    \n",
    "list_taille = simal_taille(n)\n",
    "dict_pos = simal_pos_time(n, ray_min, ray_max, time, v)\n",
    "\n",
    "pygame.display.flip()\n",
    "\n",
    "continuer = 1\n",
    "while continuer:\n",
    "    for event in pygame.event.get():\n",
    "        if event.type == QUIT:\n",
    "            continuer = 0\n",
    "        if event.type == MOUSEBUTTONDOWN:\n",
    "            for i in range(100):\n",
    "                fenetre.fill(blue)\n",
    "                for e in range(n):\n",
    "                    x, y = dict_pos[e][i]\n",
    "                    x = x + 500\n",
    "                    y = y + 250\n",
    "                    t = t + 1\n",
    "\n",
    "                    pygame.draw.circle(fenetre, yellow, (500, 250 ), 50 )\n",
    "                    pygame.draw.circle(fenetre, tan, (x, y), list_taille[e])\n",
    "                        \n",
    "                pygame.display.update()\n",
    "                pygame.time.delay(100)  \n",
    "    \n",
    "    pygame.display.flip()\n",
    "\n",
    "pygame.display.quit()\n",
    "pygame.quit()"
   ]
  },
  {
   "cell_type": "code",
   "execution_count": null,
   "metadata": {},
   "outputs": [],
   "source": []
  },
  {
   "cell_type": "code",
   "execution_count": null,
   "metadata": {},
   "outputs": [],
   "source": []
  },
  {
   "cell_type": "code",
   "execution_count": null,
   "metadata": {},
   "outputs": [],
   "source": []
  }
 ],
 "metadata": {
  "anaconda-cloud": {},
  "kernelspec": {
   "display_name": "Python 3",
   "language": "python",
   "name": "python3"
  },
  "language_info": {
   "codemirror_mode": {
    "name": "ipython",
    "version": 3
   },
   "file_extension": ".py",
   "mimetype": "text/x-python",
   "name": "python",
   "nbconvert_exporter": "python",
   "pygments_lexer": "ipython3",
   "version": "3.7.2"
  }
 },
 "nbformat": 4,
 "nbformat_minor": 1
}
