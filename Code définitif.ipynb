{
 "cells": [
  {
   "cell_type": "code",
   "execution_count": 1,
   "metadata": {},
   "outputs": [],
   "source": [
    "import math\n",
    "import random\n",
    "import matplotlib.pyplot as plt"
   ]
  },
  {
   "cell_type": "code",
   "execution_count": 17,
   "metadata": {},
   "outputs": [],
   "source": [
    "ray_star = 70\n",
    "densite_star = 3\n",
    "n = 200\n",
    "time = 300"
   ]
  },
  {
   "cell_type": "code",
   "execution_count": 18,
   "metadata": {},
   "outputs": [],
   "source": [
    "def etoile(ray_star,densite_star):\n",
    "    \"définit la taille et la masse de l'etoile par rapport au soleil en fonction de la densité massique\"\n",
    "    R = ray_star*(10**3)\n",
    "    M = (densite_star * (math.pi)/6) * (R**3)\n",
    "    return (R,M)"
   ]
  },
  {
   "cell_type": "code",
   "execution_count": 19,
   "metadata": {},
   "outputs": [],
   "source": [
    "def disque_accretion(ray_star,densite_star):\n",
    "    R,_=etoile(ray_star,densite_star)\n",
    "    ray_min=3*ray_star\n",
    "    ray_max=9*ray_star\n",
    "    return (ray_min, ray_max)"
   ]
  },
  {
   "cell_type": "code",
   "execution_count": 20,
   "metadata": {},
   "outputs": [],
   "source": [
    "densite = 3e12 #kg/km^3 densite des planetesimaux"
   ]
  },
  {
   "cell_type": "code",
   "execution_count": 21,
   "metadata": {},
   "outputs": [],
   "source": [
    "def one_simal_taille():\n",
    "    taille = random.randint(1,50)\n",
    "    return taille"
   ]
  },
  {
   "cell_type": "code",
   "execution_count": 22,
   "metadata": {},
   "outputs": [],
   "source": [
    "def one_simal_pos_init(ray_min, ray_max):\n",
    "    x = random.randint(1, 100000) * random.choice([-1, 1]) #position sur l axe x\n",
    "    y = random.randint(1, 100000) * random.choice([-1, 1]) #position sur l axe y\n",
    "\n",
    "    while math.sqrt(x*x + y*y) > ray_max or math.sqrt(x*x + y*y) < ray_min:\n",
    "        x = random.randint(1, 1000000) * random.choice([-1, 1])\n",
    "        y = random.randint(1, 1000000) * random.choice([-1, 1])\n",
    "    return (x,y)"
   ]
  },
  {
   "cell_type": "code",
   "execution_count": 23,
   "metadata": {},
   "outputs": [],
   "source": [
    "def vitesse_one_simal(taille, pos):\n",
    "    x, y = pos\n",
    "    masse_simal = densite*(math.pi/6)*taille*taille*taille\n",
    "    _, masse_star = etoile(ray_star,densite_star)\n",
    "    G = 6.67*10**(-11)\n",
    "    d = (x*x + y*y)**0.5\n",
    "    v = (G*masse_star**2 / ((masse_simal + masse_star)*d))**0.5 / d\n",
    "    return v"
   ]
  },
  {
   "cell_type": "code",
   "execution_count": 24,
   "metadata": {},
   "outputs": [],
   "source": [
    "def simal_angle(pos):\n",
    "    x, y = pos\n",
    "    angle = 0\n",
    "    if x > 0:\n",
    "        angle = math.atan(y/x)\n",
    "    elif x < 0:\n",
    "        angle = math.pi + math.atan(y/x)\n",
    "    elif x == 0 and y > 0:\n",
    "        angle = math.pi/2\n",
    "    elif x == 0 and y < 0:\n",
    "        angle = 3*math.pi/2\n",
    "    return angle"
   ]
  },
  {
   "cell_type": "code",
   "execution_count": 25,
   "metadata": {},
   "outputs": [],
   "source": [
    "def one_simal_pos_next_time(pre, v, angle_pre):\n",
    "    x, y = pre\n",
    "    d = (x*x+y*y)**0.5\n",
    "\n",
    "    angle = angle_pre + v\n",
    "\n",
    "    x = math.cos(angle) * d\n",
    "    y = math.sin(angle) * d\n",
    "    return (x,y)"
   ]
  },
  {
   "cell_type": "code",
   "execution_count": 26,
   "metadata": {},
   "outputs": [],
   "source": [
    "def all_simal_init(ray_min, ray_max):\n",
    "    x, y = one_simal_pos_init(ray_min, ray_max)\n",
    "    taille = one_simal_taille()\n",
    "    angle_i = simal_angle((x,y))\n",
    "    v = vitesse_one_simal(taille, (x, y))\n",
    "    return (x, y, angle_i, v, taille)"
   ]
  },
  {
   "cell_type": "code",
   "execution_count": 27,
   "metadata": {},
   "outputs": [],
   "source": [
    "def n_all_simal_init(n, ray_min, ray_max):\n",
    "    list_n = list()\n",
    "    for _ in range(n):\n",
    "        list_n.append(all_simal_init(ray_min, ray_max))\n",
    "    return list_n"
   ]
  },
  {
   "cell_type": "code",
   "execution_count": 28,
   "metadata": {},
   "outputs": [],
   "source": [
    "def simal_angle(pos):\n",
    "    x, y = pos\n",
    "    if x > 0:\n",
    "        angle = math.atan(y/x)\n",
    "    elif x < 0:\n",
    "        angle = math.pi + math.atan(y/x)\n",
    "    elif x == 0 and y > 0:\n",
    "        angle = math.pi/2\n",
    "    elif x == 0 and y < 0:\n",
    "        angle = 3*math.pi/2\n",
    "    return angle"
   ]
  },
  {
   "cell_type": "code",
   "execution_count": 29,
   "metadata": {},
   "outputs": [
    {
     "data": {
      "text/plain": [
       "(210, 630)"
      ]
     },
     "execution_count": 29,
     "metadata": {},
     "output_type": "execute_result"
    }
   ],
   "source": [
    "disque_accretion(ray_star, densite_star)"
   ]
  },
  {
   "cell_type": "code",
   "execution_count": null,
   "metadata": {},
   "outputs": [],
   "source": [
    "ray_min, ray_max = disque_accretion(ray_star, densite_star)\n",
    "\n",
    "list_n = n_all_simal_init(n, ray_min, ray_max)\n",
    "list_nb = list()\n",
    "list_t = list()\n",
    "\n",
    "for t in range(time):\n",
    "    for i in range(n):\n",
    "        if list_n[i]:\n",
    "            x, y, new_angle, v, taille = list_n[i]\n",
    "\n",
    "            x, y = one_simal_pos_next_time((x,y), v, new_angle)\n",
    "            new_angle = simal_angle((x,y))\n",
    "\n",
    "            list_n[i] = (x, y, new_angle, v, taille)\n",
    "\n",
    "            for e in range(n):\n",
    "                if e != i and list_n[e]:\n",
    "                    x_n, y_n, _, _, taille_n = list_n[e]\n",
    "\n",
    "                    if abs(x - x_n) <= 100*(taille + taille_n) and abs(y - y_n) <= 100*(taille + taille_n):\n",
    "                        taille_c = taille_n + taille\n",
    "                        if taille >= taille_n:\n",
    "                            x_c = x\n",
    "                            y_c = y\n",
    "                        else:\n",
    "                            x_c = x_n\n",
    "                            y_c = y_n\n",
    "\n",
    "                        v_c = vitesse_one_simal(taille_c, (x_c, y_c) )   \n",
    "                        new_angle_c = simal_angle((x_c,y_c))\n",
    "                        list_n[i] = (x_c, y_c, new_angle_c, v_c, taille_c)\n",
    "                        list_n[e] = None\n",
    "                        \n",
    "                        print('collision')\n",
    "    \n",
    "    nb = 0\n",
    "    if t % 5 == 0:\n",
    "        for j in list_n:\n",
    "            if j:\n",
    "                nb = nb + 1\n",
    "        list_nb.append(nb)\n",
    "        list_t.append(t)\n",
    "    \n",
    "print(list_nb)"
   ]
  },
  {
   "cell_type": "code",
   "execution_count": null,
   "metadata": {},
   "outputs": [],
   "source": []
  },
  {
   "cell_type": "code",
   "execution_count": null,
   "metadata": {},
   "outputs": [],
   "source": []
  }
 ],
 "metadata": {
  "kernelspec": {
   "display_name": "Python 3",
   "language": "python",
   "name": "python3"
  },
  "language_info": {
   "codemirror_mode": {
    "name": "ipython",
    "version": 3
   },
   "file_extension": ".py",
   "mimetype": "text/x-python",
   "name": "python",
   "nbconvert_exporter": "python",
   "pygments_lexer": "ipython3",
   "version": "3.7.1"
  }
 },
 "nbformat": 4,
 "nbformat_minor": 2
}
