{
 "cells": [
  {
   "cell_type": "code",
   "execution_count": 1,
   "metadata": {},
   "outputs": [],
   "source": [
    "import math\n",
    "import random\n",
    "import scipy\n",
    "import matplotlib.pyplot as plt"
   ]
  },
  {
   "cell_type": "code",
   "execution_count": 2,
   "metadata": {},
   "outputs": [],
   "source": [
    "def etoile(l,d):\n",
    "    \"définit la taille et la masse de l'etoile par rapport au soleil en fonction de la densité massique\"\n",
    "    R=l*(7*10**4)\n",
    "    M=(d*(math.pi)/6)*(R**3)\n",
    "    return (R,M)\n",
    "def disque_accretion(l,d):\n",
    "    R,_=etoile(l,d)\n",
    "    rmin=1.5*R\n",
    "    rmax=6*R\n",
    "    return (rmin,rmax)\n",
    "densite = 3e12 #kg/km^3 densite des planetesimaux"
   ]
  },
  {
   "cell_type": "code",
   "execution_count": 3,
   "metadata": {},
   "outputs": [
    {
     "name": "stdout",
     "output_type": "stream",
     "text": [
      "(140000, 4310265120725196.0)\n",
      "(210000.0, 840000)\n"
     ]
    }
   ],
   "source": [
    "star=etoile(2,3) #ici est générée l'étoile.\n",
    "print(star)\n",
    "print(disque_accretion(2,3))\n",
    "G=6.674e-11 #constante gravitationnelle"
   ]
  },
  {
   "cell_type": "code",
   "execution_count": 4,
   "metadata": {},
   "outputs": [],
   "source": [
    "def planetesimaux(n):\n",
    "    \"\"\"Fonction qui modélise les planétésimaux par leurs tailles et leurs positions\"\"\"\n",
    "    simal=list()\n",
    "    simaux=dict(simal)\n",
    "    x=0\n",
    "    y=0\n",
    "    ray_min,ray_max=disque_accretion(2,3)\n",
    "    for i in range(1,n+1):\n",
    "        simal=list()\n",
    "        rayon=random.randint(1,30)\n",
    "        x = random.randint(ray_min, ray_max) * random.choice([-1, 1])\n",
    "        y = random.randint(ray_min, ray_max) * random.choice([-1, 1])\n",
    "        simal.append(rayon) #rayon du planétésimal en km\n",
    "        simal.append(densite*(4/3)*math.pi*rayon*rayon*rayon) #masse du planétésimal\n",
    "        simal.append((x,y)) #position du planétésimal\n",
    "        simaux[i]=simal\n",
    "    return simaux"
   ]
  },
  {
   "cell_type": "code",
   "execution_count": 5,
   "metadata": {},
   "outputs": [],
   "source": [
    "def simal_angle(pos):\n",
    "    x, y = pos\n",
    "    if x > 0:\n",
    "        angle = math.atan(y/x)\n",
    "    elif x < 0:\n",
    "        angle = math.pi + math.atan(y/x)\n",
    "    elif x == 0 and y > 0:\n",
    "        angle = math.pi/2\n",
    "    elif x == 0 and y < 0:\n",
    "        angle = 3*math.pi/2\n",
    "    return angle"
   ]
  },
  {
   "cell_type": "code",
   "execution_count": 6,
   "metadata": {},
   "outputs": [
    {
     "data": {
      "text/plain": [
       "1.5707963267948966"
      ]
     },
     "execution_count": 6,
     "metadata": {},
     "output_type": "execute_result"
    }
   ],
   "source": [
    "simal_angle((0,10))"
   ]
  },
  {
   "cell_type": "code",
   "execution_count": 16,
   "metadata": {},
   "outputs": [],
   "source": [
    "def temps_planetesimaux(disque):\n",
    "    \"\"\"Fonction qui modélise les planétésimaux selon une trajectoire circulaire après un temps donné\"\"\"\n",
    "    _,M=star\n",
    "    nouv_disque=disque\n",
    "    for entite in nouv_disque:\n",
    "        #tirer les informations du planétésimal\n",
    "        info=nouv_disque[entite]\n",
    "        r=info[0]\n",
    "        m=info[1]\n",
    "        (x,y)=info[2]\n",
    "        #calcul de la distance p-étoile, de sa vitesse et de sa vitesse angulaire\n",
    "        d=math.sqrt(x*x+y*y)\n",
    "        v=math.sqrt(M**2*G/((M+m)*d))\n",
    "        w=v/d\n",
    "        #mise en rotation\n",
    "        angle=simal_angle((x,y))+w\n",
    "        x=math.cos(angle)*d\n",
    "        y=math.sin(angle)*d\n",
    "        info_new=(r,m,(x,y))\n",
    "        nouv_disque[entite]=info_new #avec nouvelle position du platenesimal\n",
    "    return nouv_disque"
   ]
  },
  {
   "cell_type": "code",
   "execution_count": 41,
   "metadata": {},
   "outputs": [],
   "source": [
    "def rotate(origin, point,angle):\n",
    "    \"\"\"\n",
    "    Rotate a point counterclockwise by a given angle around a given origin.\n",
    "    The angle should be given in radians.\n",
    "    \"\"\"\n",
    "    (ox,oy) = origin\n",
    "    (px,py) = point\n",
    "    qx = ox + math.cos(angle) * (px - ox) - math.sin(angle) * (py - oy)\n",
    "    qy = oy + math.sin(angle) * (px - ox) + math.cos(angle) * (py - oy)\n",
    "    return (qx, qy)\n",
    "\n",
    "def tps_plabis(disque):\n",
    "    \"\"\"Fonction qui modélise les planétésimaux selon une trajectoire circulaire après un temps donné\"\"\"\n",
    "    _,M=star\n",
    "    nouv_disque=disque\n",
    "    for entite in nouv_disque:\n",
    "        #tirer les informations du planétésimal\n",
    "        info=nouv_disque[entite]\n",
    "        r=info[0]\n",
    "        m=info[1]\n",
    "        (x,y)=info[2]\n",
    "        d=math.sqrt(x*x+y*y)\n",
    "        v=math.sqrt(M**2*G/((M+m)*d))\n",
    "        w=v/d\n",
    "        (x,y)=rotate((0,0),(x,y),math.radians(w))\n",
    "        info_new=(r,m,(x,y))\n",
    "        nouv_disque[entite]=info_new #avec nouvelle position du platenesimal\n",
    "    return nouv_disque"
   ]
  },
  {
   "cell_type": "code",
   "execution_count": 42,
   "metadata": {},
   "outputs": [],
   "source": [
    "def orbite(disque,time):\n",
    "    \"\"\"Fonction qui modélise les planétésimaux en rotation autour du soleil\"\"\"\n",
    "    _,M=star\n",
    "    nouv_disque=disque\n",
    "    l=list()\n",
    "    for t in range(time):\n",
    "        nouv_disque=tps_plabis(nouv_disque)\n",
    "        l.append(nouv_disque)\n",
    "    return l"
   ]
  },
  {
   "cell_type": "code",
   "execution_count": 43,
   "metadata": {},
   "outputs": [
    {
     "data": {
      "text/plain": [
       "[{1: (5, 1570796326794896.5, (835699.944775559, 736513.0626615718)),\n",
       "  2: (14, 3.4482120965801564e+16, (689344.9819530675, 360874.03447342286))},\n",
       " {1: (5, 1570796326794896.5, (835699.944775559, 736513.0626615718)),\n",
       "  2: (14, 3.4482120965801564e+16, (689344.9819530675, 360874.03447342286))},\n",
       " {1: (5, 1570796326794896.5, (835699.944775559, 736513.0626615718)),\n",
       "  2: (14, 3.4482120965801564e+16, (689344.9819530675, 360874.03447342286))},\n",
       " {1: (5, 1570796326794896.5, (835699.944775559, 736513.0626615718)),\n",
       "  2: (14, 3.4482120965801564e+16, (689344.9819530675, 360874.03447342286))},\n",
       " {1: (5, 1570796326794896.5, (835699.944775559, 736513.0626615718)),\n",
       "  2: (14, 3.4482120965801564e+16, (689344.9819530675, 360874.03447342286))},\n",
       " {1: (5, 1570796326794896.5, (835699.944775559, 736513.0626615718)),\n",
       "  2: (14, 3.4482120965801564e+16, (689344.9819530675, 360874.03447342286))},\n",
       " {1: (5, 1570796326794896.5, (835699.944775559, 736513.0626615718)),\n",
       "  2: (14, 3.4482120965801564e+16, (689344.9819530675, 360874.03447342286))},\n",
       " {1: (5, 1570796326794896.5, (835699.944775559, 736513.0626615718)),\n",
       "  2: (14, 3.4482120965801564e+16, (689344.9819530675, 360874.03447342286))},\n",
       " {1: (5, 1570796326794896.5, (835699.944775559, 736513.0626615718)),\n",
       "  2: (14, 3.4482120965801564e+16, (689344.9819530675, 360874.03447342286))},\n",
       " {1: (5, 1570796326794896.5, (835699.944775559, 736513.0626615718)),\n",
       "  2: (14, 3.4482120965801564e+16, (689344.9819530675, 360874.03447342286))}]"
      ]
     },
     "execution_count": 43,
     "metadata": {},
     "output_type": "execute_result"
    }
   ],
   "source": [
    "disquetest=planetesimaux(2)\n",
    "tps_plabis(disquetest)\n",
    "orbite(disquetest,10)"
   ]
  },
  {
   "cell_type": "code",
   "execution_count": 33,
   "metadata": {},
   "outputs": [],
   "source": [
    "def tracer(planetesimaux):\n",
    "    li=list()\n",
    "    for e in planetesimaux:\n",
    "        for en in e:\n",
    "            _,_,((x,y))=e[en]\n",
    "            li.append((x,y))\n",
    "    return li"
   ]
  },
  {
   "cell_type": "code",
   "execution_count": 34,
   "metadata": {},
   "outputs": [
    {
     "data": {
      "text/plain": [
       "<matplotlib.collections.PathCollection at 0x14d994690f0>"
      ]
     },
     "execution_count": 34,
     "metadata": {},
     "output_type": "execute_result"
    },
    {
     "data": {
      "image/png": "[encoded data removed]",
      "text/plain": [
       "<Figure size 432x288 with 1 Axes>"
      ]
     },
     "metadata": {
      "needs_background": "light"
     },
     "output_type": "display_data"
    }
   ],
   "source": [
    "tracer(orbite(disquetest,10))\n",
    "L1=[]\n",
    "L2=[]\n",
    "    \n",
    "for (x,y) in tracer(orbite(disquetest,100)):\n",
    "    L1.append(x/10000)\n",
    "    L2.append(y/10000)\n",
    "x=L1\n",
    "y=L2\n",
    "plt.scatter(x, y)\n",
    "s = 100000\n",
    "plt.scatter([0],[0], s = 1000, c='orange')"
   ]
  },
  {
   "cell_type": "code",
   "execution_count": null,
   "metadata": {},
   "outputs": [],
   "source": []
  }
 ],
 "metadata": {
  "kernelspec": {
   "display_name": "Python 3",
   "language": "python",
   "name": "python3"
  },
  "language_info": {
   "codemirror_mode": {
    "name": "ipython",
    "version": 3
   },
   "file_extension": ".py",
   "mimetype": "text/x-python",
   "name": "python",
   "nbconvert_exporter": "python",
   "pygments_lexer": "ipython3",
   "version": "3.7.2"
  }
 },
 "nbformat": 4,
 "nbformat_minor": 2
}
