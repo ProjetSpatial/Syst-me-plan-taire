{
 "cells": [
  {
   "cell_type": "code",
   "execution_count": 2,
   "metadata": {},
   "outputs": [],
   "source": [
    "# -*- coding: utf-8 -*-\n",
    "import math\n",
    "import random\n",
    "import matplotlib.pyplot as plt"
   ]
  },
  {
   "cell_type": "code",
   "execution_count": 3,
   "metadata": {},
   "outputs": [],
   "source": [
    "ray_star = 2\n",
    "densite_star = 3\n",
    "n = 2000\n",
    "time = 150"
   ]
  },
  {
   "cell_type": "code",
   "execution_count": 4,
   "metadata": {},
   "outputs": [],
   "source": [
    "def etoile(ray_star,densite_star):\n",
    "    \"définit la taille et la masse de l'etoile par rapport au soleil en fonction de la densité massique\"\n",
    "    R = ray_star*(7*10**4)\n",
    "    M = (densite_star * (math.pi)/6) * (R**3)\n",
    "    return (R,M)"
   ]
  },
  {
   "cell_type": "code",
   "execution_count": 5,
   "metadata": {},
   "outputs": [],
   "source": [
    "def disque_accretion(ray_star,densite_star):\n",
    "    R,_=etoile(ray_star,densite_star)\n",
    "    ray_min=1*R\n",
    "    ray_max=5*R\n",
    "    return (ray_min, ray_max)\n",
    "\n",
    "densite = 3e12 #kg/km^3 densite des planetesimaux"
   ]
  },
  {
   "cell_type": "code",
   "execution_count": 6,
   "metadata": {},
   "outputs": [],
   "source": [
    "def one_simal_taille():\n",
    "    taille = random.randint(10,50)\n",
    "    return taille"
   ]
  },
  {
   "cell_type": "code",
   "execution_count": 7,
   "metadata": {},
   "outputs": [],
   "source": [
    "def one_simal_pos_init(ray_min, ray_max):\n",
    "    x = random.randint(1, 1000000) * random.choice([-1, 1]) #position sur l axe x\n",
    "    y = random.randint(1, 1000000) * random.choice([-1, 1]) #position sur l axe y\n",
    "\n",
    "    while math.sqrt(x*x + y*y) > ray_max or math.sqrt(x*x + y*y) < ray_min:\n",
    "        x = random.randint(1, 1000000) * random.choice([-1, 1])\n",
    "        y = random.randint(1, 1000000) * random.choice([-1, 1])\n",
    "    return (x,y)"
   ]
  },
  {
   "cell_type": "code",
   "execution_count": 8,
   "metadata": {},
   "outputs": [],
   "source": [
    "def vitesse_one_simal(taille, pos):\n",
    "    x, y = pos\n",
    "    masse_simal = densite*(math.pi/6)*taille*taille*taille\n",
    "    _, masse_star = etoile(ray_star,densite_star)\n",
    "    G = 6.67*10**(-11)\n",
    "    d = (x*x + y*y)**0.5\n",
    "    v = (G*masse_star**2 / ((masse_simal + masse_star)*d))**0.5 / d\n",
    "    return v"
   ]
  },
  {
   "cell_type": "code",
   "execution_count": 9,
   "metadata": {},
   "outputs": [],
   "source": [
    "def simal_angle(pos):\n",
    "    x, y = pos\n",
    "    angle = 0\n",
    "    if x > 0:\n",
    "        angle = math.atan(y/x)\n",
    "    elif x < 0:\n",
    "        angle = math.pi + math.atan(y/x)\n",
    "    elif x == 0 and y > 0:\n",
    "        angle = math.pi/2\n",
    "    elif x == 0 and y < 0:\n",
    "        angle = 3*math.pi/2\n",
    "    return angle"
   ]
  },
  {
   "cell_type": "code",
   "execution_count": 10,
   "metadata": {},
   "outputs": [],
   "source": [
    "def one_simal_pos_next_time(pre, v, angle_pre):\n",
    "    x, y = pre\n",
    "    d = (x*x+y*y)**0.5\n",
    "\n",
    "    angle = angle_pre + v\n",
    "\n",
    "    x = math.cos(angle) * d\n",
    "    y = math.sin(angle) * d\n",
    "    return (x,y)"
   ]
  },
  {
   "cell_type": "code",
   "execution_count": 11,
   "metadata": {},
   "outputs": [],
   "source": [
    "def all_simal_init(ray_min, ray_max):\n",
    "    x, y = one_simal_pos_init(ray_min, ray_max)\n",
    "    taille = one_simal_taille()\n",
    "    angle_i = simal_angle((x,y))\n",
    "    v = vitesse_one_simal(taille, (x, y))\n",
    "    return (x, y, angle_i, v, taille)"
   ]
  },
  {
   "cell_type": "code",
   "execution_count": 12,
   "metadata": {},
   "outputs": [],
   "source": [
    "def n_all_simal_init(n, ray_min, ray_max):\n",
    "    list_n = list()\n",
    "    for _ in range(n):\n",
    "        list_n.append(all_simal_init(ray_min, ray_max))\n",
    "    return list_n"
   ]
  },
  {
   "cell_type": "code",
   "execution_count": 13,
   "metadata": {},
   "outputs": [
    {
     "name": "stdout",
     "output_type": "stream",
     "text": [
      "nombre de planètes =\n",
      "3\n"
     ]
    }
   ],
   "source": [
    "ray_min, ray_max = disque_accretion(ray_star, densite_star)\n",
    "\n",
    "list_n = n_all_simal_init(n, ray_min, ray_max)\n",
    "\n",
    "list_nb = list()\n",
    "list_t = list()\n",
    "list_moy_taille =list()\n",
    "\n",
    "for t in range(time):\n",
    "    taille_totale = 0\n",
    "    for i in range(n):\n",
    "        if list_n[i]:\n",
    "            x, y, new_angle, v, taille = list_n[i]\n",
    "\n",
    "            x, y = one_simal_pos_next_time((x,y), v, new_angle)\n",
    "            new_angle = simal_angle((x,y))\n",
    "\n",
    "            list_n[i] = (x, y, new_angle, v, taille)\n",
    "            \n",
    "            taille_totale = taille_totale + taille\n",
    "                \n",
    "            for e in range(n):\n",
    "                if e != i and list_n[e]:\n",
    "                    x_n, y_n, _, _, taille_n= list_n[e]\n",
    "\n",
    "                    if abs(x - x_n) <= 200*(taille) and abs(y - y_n) <= 200*(taille):\n",
    "                        taille_c = taille_n + taille\n",
    "                        if taille >= taille_n:\n",
    "                            x_c = x\n",
    "                            y_c = y\n",
    "                        else:\n",
    "                            x_c = x_n\n",
    "                            y_c = y_n\n",
    "\n",
    "                        v_c = vitesse_one_simal(taille_c, (x_c, y_c) )   \n",
    "                        new_angle_c = simal_angle((x_c,y_c))\n",
    "                        list_n[i] = (x_c, y_c, new_angle_c, v_c, taille_c)\n",
    "                        list_n[e] = None\n",
    "                        \n",
    "    L = [a for a in list_n if a != None]\n",
    "    list_nb.append(len(L))\n",
    "    \n",
    "    list_moy_taille.append(taille_totale/len(L))\n",
    "\n",
    "list_t = [t for t in range(time)]\n",
    "\n",
    "p=0\n",
    "for o in list_n:\n",
    "    if o:\n",
    "        _,_,_,_,taille=o\n",
    "        if taille>= 1000:\n",
    "            p=p+1\n",
    "        \n",
    "print ('nombre de planètes =')\n",
    "print (p)"
   ]
  },
  {
   "cell_type": "code",
   "execution_count": 16,
   "metadata": {},
   "outputs": [
    {
     "data": {
      "image/png": "[encoded data removed]",
      "text/plain": [
       "<Figure size 432x288 with 1 Axes>"
      ]
     },
     "metadata": {
      "needs_background": "light"
     },
     "output_type": "display_data"
    },
    {
     "data": {
      "image/png": "[encoded data removed]",
      "text/plain": [
       "<Figure size 432x288 with 1 Axes>"
      ]
     },
     "metadata": {
      "needs_background": "light"
     },
     "output_type": "display_data"
    }
   ],
   "source": [
    "plt.xlabel('Temps (10^4 ans)')\n",
    "plt.ylabel('Nombre de planétesimaux')\n",
    "plt.title('Nombre de planétesimaux en fonction du temps')\n",
    "plt.plot(list_t, list_nb)\n",
    "plt.axis([0, time, 0, n])\n",
    "plt.show()\n",
    "\n",
    "plt.xlabel('Temps (10^4 ans)')\n",
    "plt.ylabel('Rayon moyen des planétesimaux (km)')\n",
    "plt.title('Taille moyenne des planétesimaux en fonction du temps')\n",
    "plt.plot(list_t, list_moy_taille,'r--')\n",
    "plt.axis([0, time,0,60])\n",
    "plt.show()\n"
   ]
  },
  {
   "cell_type": "code",
   "execution_count": null,
   "metadata": {},
   "outputs": [],
   "source": []
  },
  {
   "cell_type": "code",
   "execution_count": null,
   "metadata": {},
   "outputs": [],
   "source": []
  },
  {
   "cell_type": "code",
   "execution_count": null,
   "metadata": {},
   "outputs": [],
   "source": []
  }
 ],
 "metadata": {
  "kernelspec": {
   "display_name": "Python 3",
   "language": "python",
   "name": "python3"
  },
  "language_info": {
   "codemirror_mode": {
    "name": "ipython",
    "version": 3
   },
   "file_extension": ".py",
   "mimetype": "text/x-python",
   "name": "python",
   "nbconvert_exporter": "python",
   "pygments_lexer": "ipython3",
   "version": "3.7.3"
  }
 },
 "nbformat": 4,
 "nbformat_minor": 2
}
