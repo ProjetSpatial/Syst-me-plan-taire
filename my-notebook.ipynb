{
 "cells": [
  {
   "cell_type": "code",
   "execution_count": 257,
   "metadata": {},
   "outputs": [],
   "source": [
    "import random\n",
    "import math\n",
    "from tkinter import *"
   ]
  },
  {
   "cell_type": "markdown",
   "metadata": {},
   "source": [
    "simal = planetesimal\n",
    "\n",
    "one_... = fonction pour un seul planetesimal\n",
    "\n",
    "pos = position\n",
    "\n",
    "init = initial"
   ]
  },
  {
   "cell_type": "code",
   "execution_count": 258,
   "metadata": {},
   "outputs": [],
   "source": [
    "def one_simal():\n",
    "    taille=0\n",
    "    taille = random.randint(1,30)\n",
    "    return taille"
   ]
  },
  {
   "cell_type": "code",
   "execution_count": 259,
   "metadata": {},
   "outputs": [
    {
     "data": {
      "text/plain": [
       "13"
      ]
     },
     "execution_count": 259,
     "metadata": {},
     "output_type": "execute_result"
    }
   ],
   "source": [
    "one_simal()"
   ]
  },
  {
   "cell_type": "code",
   "execution_count": 260,
   "metadata": {},
   "outputs": [],
   "source": [
    "def simal_taille(n):\n",
    "    #n : nombre de planetesimaux choisis\n",
    "    list_size = list()\n",
    "    for _ in range(n):\n",
    "        list_size.append(one_simal())\n",
    "    return list_size"
   ]
  },
  {
   "cell_type": "code",
   "execution_count": 261,
   "metadata": {},
   "outputs": [
    {
     "data": {
      "text/plain": [
       "[20, 5, 23, 17, 18, 1, 26, 18, 30, 16, 6, 9, 28, 27, 8, 27, 18]"
      ]
     },
     "execution_count": 261,
     "metadata": {},
     "output_type": "execute_result"
    }
   ],
   "source": [
    "simal_taille(17)"
   ]
  },
  {
   "cell_type": "code",
   "execution_count": 262,
   "metadata": {},
   "outputs": [],
   "source": [
    "def one_simal_pos_init(ray_min, ray_max):\n",
    "    x = 0 #position sur l axe x\n",
    "    y = 0 #position sur l axe y\n",
    "    \n",
    "    x = random.randint(ray_min, ray_max) * random.choice([-1, 1])\n",
    "    y = random.randint(ray_min, ray_max) * random.choice([-1, 1])\n",
    "    \n",
    "    return (x,y)"
   ]
  },
  {
   "cell_type": "code",
   "execution_count": 263,
   "metadata": {},
   "outputs": [
    {
     "data": {
      "text/plain": [
       "(-27, -19)"
      ]
     },
     "execution_count": 263,
     "metadata": {},
     "output_type": "execute_result"
    }
   ],
   "source": [
    "one_simal_pos_init(10, 70)"
   ]
  },
  {
   "cell_type": "code",
   "execution_count": 264,
   "metadata": {},
   "outputs": [],
   "source": [
    "def simal_pos_init(n, ray_min, ray_max):\n",
    "    list_simal_pos = list()\n",
    "    for _ in range(n):\n",
    "        list_simal_pos.append(one_simal_pos_init(ray_min, ray_max))\n",
    "    return list_simal_pos"
   ]
  },
  {
   "cell_type": "code",
   "execution_count": 265,
   "metadata": {},
   "outputs": [
    {
     "data": {
      "text/plain": [
       "[(-23, -11),\n",
       " (28, -28),\n",
       " (16, -19),\n",
       " (-31, -15),\n",
       " (-15, 10),\n",
       " (-12, -19),\n",
       " (-30, 24),\n",
       " (23, 35),\n",
       " (24, 17),\n",
       " (-25, -18),\n",
       " (27, -14),\n",
       " (-12, 28),\n",
       " (10, 16),\n",
       " (13, 22),\n",
       " (20, 18),\n",
       " (16, -31),\n",
       " (-33, -9),\n",
       " (-8, -14),\n",
       " (25, -14)]"
      ]
     },
     "execution_count": 265,
     "metadata": {},
     "output_type": "execute_result"
    }
   ],
   "source": [
    "simal_pos_init(19, 7, 36)"
   ]
  },
  {
   "cell_type": "code",
   "execution_count": 266,
   "metadata": {},
   "outputs": [],
   "source": [
    "densite = 3e12 #kg/km^3 densite des planetesimaux"
   ]
  },
  {
   "cell_type": "code",
   "execution_count": 267,
   "metadata": {},
   "outputs": [],
   "source": [
    "def one_simal_masse(densite):\n",
    "    rayon = one_simal()\n",
    "    return densite * (math.pi/6) * rayon * rayon * rayon"
   ]
  },
  {
   "cell_type": "code",
   "execution_count": 268,
   "metadata": {},
   "outputs": [
    {
     "data": {
      "text/plain": [
       "9160884177867836.0"
      ]
     },
     "execution_count": 268,
     "metadata": {},
     "output_type": "execute_result"
    }
   ],
   "source": [
    "one_simal_masse(densite)"
   ]
  },
  {
   "cell_type": "code",
   "execution_count": 269,
   "metadata": {},
   "outputs": [],
   "source": [
    "def simal_masse(n, densite):\n",
    "    list_simal_masse = list()\n",
    "    for _ in range(n):\n",
    "        list_simal_masse.append(one_simal_masse(densite))\n",
    "    return list_simal_masse"
   ]
  },
  {
   "cell_type": "code",
   "execution_count": 270,
   "metadata": {},
   "outputs": [
    {
     "data": {
      "text/plain": [
       "[2.454369260617026e+16,\n",
       " 2.7608316239747104e+16,\n",
       " 12566370614359.172,\n",
       " 6433981754551896.0,\n",
       " 538783140090649.44,\n",
       " 1145110522233479.5,\n",
       " 538783140090649.44,\n",
       " 2.171468842161265e+16,\n",
       " 4310265120725195.5,\n",
       " 6433981754551896.0,\n",
       " 196349540849362.06,\n",
       " 4310265120725195.5,\n",
       " 1.2566370614359172e+16,\n",
       " 100530964914873.38,\n",
       " 4310265120725195.5,\n",
       " 5301437602932775.0,\n",
       " 1145110522233479.5,\n",
       " 3.831015161420074e+16,\n",
       " 1.6725839287712058e+16,\n",
       " 9160884177867836.0,\n",
       " 3.831015161420074e+16,\n",
       " 100530964914873.38,\n",
       " 5301437602932775.0,\n",
       " 3451039529968388.0]"
      ]
     },
     "execution_count": 270,
     "metadata": {},
     "output_type": "execute_result"
    }
   ],
   "source": [
    "simal_masse(24, densite)"
   ]
  },
  {
   "cell_type": "code",
   "execution_count": 271,
   "metadata": {},
   "outputs": [],
   "source": [
    "def dict_simal(n, ray_min, ray_max, densite):\n",
    "    simal = dict()\n",
    "    for i in range(1, n+1):\n",
    "        simal[i] = (\"taille:\",one_simal(), \"position:\",one_simal_pos_init(ray_min, ray_max), \"masse:\",one_simal_masse(densite))\n",
    "    return simal"
   ]
  },
  {
   "cell_type": "code",
   "execution_count": 272,
   "metadata": {
    "scrolled": true
   },
   "outputs": [
    {
     "data": {
      "text/plain": [
       "{1: ('taille:', 15, 'position:', (54, -53), 'masse:', 1.2566370614359172e+16),\n",
       " 2: ('taille:', 16, 'position:', (-27, -51), 'masse:', 42411500823462.2),\n",
       " 3: ('taille:', 26, 'position:', (-37, 23), 'masse:', 3.4482120965801564e+16),\n",
       " 4: ('taille:', 24, 'position:', (-36, -44), 'masse:', 1.2566370614359172e+16),\n",
       " 5: ('taille:', 27, 'position:', (-51, -55), 'masse:', 5301437602932775.0),\n",
       " 6: ('taille:', 21, 'position:', (-9, -27), 'masse:', 3.4482120965801564e+16),\n",
       " 7: ('taille:', 5, 'position:', (-56, -20), 'masse:', 42411500823462.2),\n",
       " 8: ('taille:', 2, 'position:', (-26, -39), 'masse:', 5301437602932775.0),\n",
       " 9: ('taille:', 19, 'position:', (-11, 13), 'masse:', 339292006587697.6),\n",
       " 10: ('taille:', 5, 'position:', (-14, 9), 'masse:', 2714336052701581.0),\n",
       " 11: ('taille:', 14, 'position:', (-9, 31), 'masse:', 3.0917984100303948e+16),\n",
       " 12: ('taille:', 3, 'position:', (-5, 22), 'masse:', 804247719318987.0),\n",
       " 13: ('taille:', 22, 'position:', (-24, 59), 'masse:', 1.9111878908113504e+16),\n",
       " 14: ('taille:', 21, 'position:', (-44, -60), 'masse:', 100530964914873.38),\n",
       " 15: ('taille:', 2, 'position:', (-8, -57), 'masse:', 1.0774092005486194e+16),\n",
       " 16: ('taille:', 29, 'position:', (-46, 57), 'masse:', 12566370614359.172),\n",
       " 17: ('taille:', 17, 'position:', (32, 55), 'masse:', 7717322353543327.0),\n",
       " 18: ('taille:', 1, 'position:', (21, -49), 'masse:', 3.831015161420074e+16),\n",
       " 19: ('taille:', 9, 'position:', (53, 30), 'masse:', 339292006587697.6),\n",
       " 20: ('taille:', 20, 'position:', (59, -27), 'masse:', 3.4482120965801564e+16),\n",
       " 21: ('taille:', 20, 'position:', (-28, -18), 'masse:', 1145110522233479.5),\n",
       " 22: ('taille:', 28, 'position:', (-26, 49), 'masse:', 3451039529968388.0),\n",
       " 23: ('taille:', 25, 'position:', (47, -43), 'masse:', 12566370614359.172),\n",
       " 24: ('taille:', 16, 'position:', (41, 36), 'masse:', 2.7608316239747104e+16)}"
      ]
     },
     "execution_count": 272,
     "metadata": {},
     "output_type": "execute_result"
    }
   ],
   "source": [
    "dict_simal(24, 5, 60, densite)"
   ]
  },
  {
   "cell_type": "code",
   "execution_count": 279,
   "metadata": {},
   "outputs": [],
   "source": [
    "def one_simal_pos_time(ray_min, ray_max,time, v):\n",
    "    x, y = one_simal_pos_init(ray_min, ray_max)\n",
    "    if x > 0:\n",
    "        angle_init = math.atan(y/x)\n",
    "    else:\n",
    "        angle_init = math.pi + math.atan(y/x)\n",
    "    list_pos = list()\n",
    "    list_pos.append((x,y))\n",
    "    d = math.sqrt(x*x+y*y)\n",
    "    \n",
    "    for t in range(1,time+1):\n",
    "        angle = angle_init + v*t\n",
    "        x = math.cos(angle) * d\n",
    "        y = math.sin(angle) * d\n",
    "        list_pos.append((x,y))\n",
    "    \n",
    "    return list_pos"
   ]
  },
  {
   "cell_type": "code",
   "execution_count": 280,
   "metadata": {
    "scrolled": true
   },
   "outputs": [
    {
     "data": {
      "text/plain": [
       "[(-12, 11),\n",
       " (-16.263455967290593, -0.707106781186543),\n",
       " (-11.000000000000004, -11.999999999999996),\n",
       " (0.707106781186542, -16.263455967290593),\n",
       " (11.999999999999995, -11.000000000000005),\n",
       " (16.263455967290593, 0.707106781186541),\n",
       " (11.000000000000005, 11.999999999999995),\n",
       " (-0.70710678118654, 16.263455967290593),\n",
       " (-11.999999999999995, 11.000000000000005),\n",
       " (-16.263455967290593, -0.7071067811865245)]"
      ]
     },
     "execution_count": 280,
     "metadata": {},
     "output_type": "execute_result"
    }
   ],
   "source": [
    "one_simal_pos_time(3, 25, 9, math.pi/4)"
   ]
  },
  {
   "cell_type": "markdown",
   "metadata": {},
   "source": [
    "Test ▼"
   ]
  },
  {
   "cell_type": "code",
   "execution_count": 281,
   "metadata": {},
   "outputs": [],
   "source": [
    "def one_simal_pos_init_2(ray_min, ray_max):\n",
    "    x = 0 #position sur l axe x\n",
    "    y = 0 #position sur l axe y\n",
    "    \n",
    "    x = random.randint(ray_min, ray_max)\n",
    "    y = random.randint(ray_min, ray_max)\n",
    "    \n",
    "    return (x,y)"
   ]
  },
  {
   "cell_type": "code",
   "execution_count": 282,
   "metadata": {},
   "outputs": [],
   "source": [
    "def one_simal_pos_time_2(ray_min, ray_max,time, v):\n",
    "    x, y = one_simal_pos_init_2(ray_min, ray_max)\n",
    "    if x > 0:\n",
    "        angle_init = math.atan(y/x)\n",
    "    else:\n",
    "        angle_init = math.pi + math.atan(y/x)\n",
    "    list_pos = list()\n",
    "    list_pos.append(x)\n",
    "    list_pos.append(y)\n",
    "    d = math.sqrt(x*x+y*y)\n",
    "    \n",
    "    for t in range(1,time+1):\n",
    "        angle = angle_init + v*t\n",
    "        x = math.cos(angle) * d\n",
    "        y = math.sin(angle) * d\n",
    "        list_pos.append(x)\n",
    "        list_pos.append(y)\n",
    "    \n",
    "    return list_pos"
   ]
  },
  {
   "cell_type": "code",
   "execution_count": 283,
   "metadata": {},
   "outputs": [],
   "source": [
    "def graph(ray_min, ray_max, time, v):\n",
    "    fenetre = Tk()\n",
    "    fenetre.geometry(\"1000x500\")\n",
    "    dessin = Canvas(fenetre, width=1000, height=500)\n",
    "    oval = dessin.create_oval(550, 300, 450, 200, fill='yellow')\n",
    "    \n",
    "    x, y = one_simal_pos_init_2(ray_min, ray_max)\n",
    "    x = x + 500\n",
    "    y = y + 250\n",
    "    simal = dessin.create_oval(x, y, x-20, y-20)\n",
    "    \n",
    "    for i in range(time-1):\n",
    "        pos = one_simal_pos_time_2(ray_min, ray_max,time, v)\n",
    "        circle = dessin.create_oval(pos[i]+500, pos[i+1]+250, pos[i]-20+500, pos[i+1]-20+250, fill='blue')\n",
    "    \n",
    "    dessin.pack()\n",
    "    fenetre.mainloop()"
   ]
  },
  {
   "cell_type": "code",
   "execution_count": 284,
   "metadata": {},
   "outputs": [],
   "source": [
    "graph(60, 80, 9, math.pi/4)"
   ]
  },
  {
   "cell_type": "markdown",
   "metadata": {},
   "source": [
    "fin test ▲"
   ]
  },
  {
   "cell_type": "code",
   "execution_count": 287,
   "metadata": {},
   "outputs": [],
   "source": [
    "def collision(n, ray_min, ray_max, time, v):\n",
    "    plusieurs_pos = plusieurs_simal_pos_time(n, ray_min, ray_max, time, v)\n",
    "    new_pos = list()\n",
    "    for t in range (time):\n",
    "        for i in range(n):\n",
    "            x_i, y_i = plusieurs_pos[t][i]\n",
    "            for e in range(n):\n",
    "                x_n, y_n = plusieurs_pos[t][n]\n",
    "                if x_i - x_n <= 5 and y_i - y_n <=5:\n",
    "                    plusieurs_pos.remove[i]\n",
    "                    plusieurs_pos.remove[e]\n",
    "                    plusieurs_pos.append[((x_i + x_n)/2, (y_i + y_n)/2)]"
   ]
  },
  {
   "cell_type": "code",
   "execution_count": null,
   "metadata": {},
   "outputs": [],
   "source": []
  },
  {
   "cell_type": "code",
   "execution_count": null,
   "metadata": {},
   "outputs": [],
   "source": []
  }
 ],
 "metadata": {
  "anaconda-cloud": {},
  "kernelspec": {
   "display_name": "Python 3",
   "language": "python",
   "name": "python3"
  },
  "language_info": {
   "codemirror_mode": {
    "name": "ipython",
    "version": 3
   },
   "file_extension": ".py",
   "mimetype": "text/x-python",
   "name": "python",
   "nbconvert_exporter": "python",
   "pygments_lexer": "ipython3",
   "version": "3.7.1"
  }
 },
 "nbformat": 4,
 "nbformat_minor": 1
}
