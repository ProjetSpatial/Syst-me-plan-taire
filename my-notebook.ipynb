{
 "cells": [
  {
   "cell_type": "code",
   "execution_count": 99,
   "metadata": {},
   "outputs": [],
   "source": [
    "import random\n",
    "import math"
   ]
  },
  {
   "cell_type": "markdown",
   "metadata": {},
   "source": [
    "simal = planetesimal\n",
    "\n",
    "one_... = fonction pour un seul planetesimal\n",
    "\n",
    "pos = position\n",
    "\n",
    "init = initial"
   ]
  },
  {
   "cell_type": "code",
   "execution_count": 88,
   "metadata": {},
   "outputs": [],
   "source": [
    "def one_simal():\n",
    "    taille=0\n",
    "    taille = random.randint(1,30)\n",
    "    return taille"
   ]
  },
  {
   "cell_type": "code",
   "execution_count": 89,
   "metadata": {},
   "outputs": [
    {
     "data": {
      "text/plain": [
       "25"
      ]
     },
     "execution_count": 89,
     "metadata": {},
     "output_type": "execute_result"
    }
   ],
   "source": [
    "one_simal()"
   ]
  },
  {
   "cell_type": "code",
   "execution_count": 90,
   "metadata": {},
   "outputs": [],
   "source": [
    "def simal_taille(n):\n",
    "    #n : nombre de planetesimaux choisis\n",
    "    list_size = list()\n",
    "    for _ in range(n):\n",
    "        list_size.append(one_planetesimal())\n",
    "    return list_size"
   ]
  },
  {
   "cell_type": "code",
   "execution_count": 91,
   "metadata": {},
   "outputs": [
    {
     "data": {
      "text/plain": [
       "[12, 13, 22, 23, 27, 21, 23, 6, 4, 10, 22, 4, 28, 3, 8, 22, 18]"
      ]
     },
     "execution_count": 91,
     "metadata": {},
     "output_type": "execute_result"
    }
   ],
   "source": [
    "simal_taille(17)"
   ]
  },
  {
   "cell_type": "code",
   "execution_count": 92,
   "metadata": {},
   "outputs": [],
   "source": [
    "def one_simal_pos_init(ray_min, ray_max):\n",
    "    x = 0 #position sur l axe x\n",
    "    y = 0 #position sur l axe y\n",
    "    \n",
    "    x = random.randint(ray_min, ray_max)\n",
    "    y = random.randint(ray_min, ray_max)\n",
    "    \n",
    "    return (x,y)"
   ]
  },
  {
   "cell_type": "code",
   "execution_count": 93,
   "metadata": {},
   "outputs": [
    {
     "data": {
      "text/plain": [
       "(21, 62)"
      ]
     },
     "execution_count": 93,
     "metadata": {},
     "output_type": "execute_result"
    }
   ],
   "source": [
    "one_simal_pos_init(10, 70)"
   ]
  },
  {
   "cell_type": "code",
   "execution_count": 94,
   "metadata": {},
   "outputs": [],
   "source": [
    "def simal_pos_init(n, ray_min, ray_max):\n",
    "    list_simal_pos = list()\n",
    "    for _ in range(n):\n",
    "        list_simal_pos.append(one_simal_pos_init(ray_min, ray_max))\n",
    "    return list_simal_pos"
   ]
  },
  {
   "cell_type": "code",
   "execution_count": 95,
   "metadata": {},
   "outputs": [
    {
     "data": {
      "text/plain": [
       "[(14, 34),\n",
       " (32, 26),\n",
       " (19, 33),\n",
       " (30, 30),\n",
       " (23, 27),\n",
       " (27, 13),\n",
       " (35, 9),\n",
       " (21, 34),\n",
       " (9, 10),\n",
       " (13, 33),\n",
       " (32, 35),\n",
       " (36, 9),\n",
       " (16, 30),\n",
       " (32, 14),\n",
       " (26, 19),\n",
       " (25, 24),\n",
       " (10, 8),\n",
       " (28, 34),\n",
       " (35, 8)]"
      ]
     },
     "execution_count": 95,
     "metadata": {},
     "output_type": "execute_result"
    }
   ],
   "source": [
    "simal_pos_init(19, 7, 36)"
   ]
  },
  {
   "cell_type": "code",
   "execution_count": 96,
   "metadata": {},
   "outputs": [],
   "source": [
    "densite = 3e12 #kg/km^3 densite des planetesimaux"
   ]
  },
  {
   "cell_type": "code",
   "execution_count": 111,
   "metadata": {},
   "outputs": [],
   "source": [
    "def one_simal_masse(densite):\n",
    "    rayon = one_simal()\n",
    "    return densite * (math.pi/6) * rayon * rayon * rayon"
   ]
  },
  {
   "cell_type": "code",
   "execution_count": 112,
   "metadata": {},
   "outputs": [
    {
     "data": {
      "text/plain": [
       "2090729910964007.2"
      ]
     },
     "execution_count": 112,
     "metadata": {},
     "output_type": "execute_result"
    }
   ],
   "source": [
    "one_simal_masse(densite)"
   ]
  },
  {
   "cell_type": "code",
   "execution_count": 115,
   "metadata": {},
   "outputs": [],
   "source": [
    "def simal_masse(n, densite):\n",
    "    list_simal_masse = list()\n",
    "    for _ in range(n):\n",
    "        list_simal_masse.append(one_simal_masse(densite))\n",
    "    return list_simal_masse"
   ]
  },
  {
   "cell_type": "code",
   "execution_count": 116,
   "metadata": {},
   "outputs": [
    {
     "data": {
      "text/plain": [
       "[42411500823462.2,\n",
       " 6433981754551896.0,\n",
       " 1.9111878908113504e+16,\n",
       " 1145110522233479.5,\n",
       " 9160884177867836.0,\n",
       " 3.831015161420074e+16,\n",
       " 1.4547144782447536e+16,\n",
       " 804247719318987.0,\n",
       " 1145110522233479.5,\n",
       " 2714336052701581.0,\n",
       " 7717322353543327.0,\n",
       " 3.831015161420074e+16,\n",
       " 4.24115008234622e+16,\n",
       " 804247719318987.0,\n",
       " 3.831015161420074e+16,\n",
       " 1145110522233479.5,\n",
       " 3.831015161420074e+16,\n",
       " 1.0774092005486194e+16,\n",
       " 2.454369260617026e+16,\n",
       " 42411500823462.2,\n",
       " 1.2566370614359172e+16,\n",
       " 1.0774092005486194e+16,\n",
       " 1570796326794896.5,\n",
       " 2090729910964007.2]"
      ]
     },
     "execution_count": 116,
     "metadata": {},
     "output_type": "execute_result"
    }
   ],
   "source": [
    "simal_masse(24, densite)"
   ]
  },
  {
   "cell_type": "code",
   "execution_count": 144,
   "metadata": {},
   "outputs": [],
   "source": [
    "def dict_simal(n, ray_min, ray_max, densite):\n",
    "    simal = dict()\n",
    "    for i in range(1, n+1):\n",
    "        simal[i] = (\"taille:\",one_simal(), \"position:\",one_simal_pos_init(ray_min, ray_max), \"masse:\",one_simal_masse(densite))\n",
    "    return simal"
   ]
  },
  {
   "cell_type": "code",
   "execution_count": 145,
   "metadata": {
    "scrolled": true
   },
   "outputs": [
    {
     "data": {
      "text/plain": [
       "{1: ('taille:', 1, 'position:', (16, 45), 'masse:', 1145110522233479.5),\n",
       " 2: ('taille:', 27, 'position:', (29, 38), 'masse:', 42411500823462.2),\n",
       " 3: ('taille:', 17, 'position:', (46, 52), 'masse:', 1.2566370614359172e+16),\n",
       " 4: ('taille:', 29, 'position:', (25, 46), 'masse:', 3.831015161420074e+16),\n",
       " 5: ('taille:', 29, 'position:', (53, 15), 'masse:', 4.24115008234622e+16),\n",
       " 6: ('taille:', 11, 'position:', (47, 44), 'masse:', 4.24115008234622e+16),\n",
       " 7: ('taille:', 26, 'position:', (29, 59), 'masse:', 1.2566370614359172e+16),\n",
       " 8: ('taille:', 11, 'position:', (7, 41), 'masse:', 2.171468842161265e+16),\n",
       " 9: ('taille:', 9, 'position:', (7, 56), 'masse:', 12566370614359.172),\n",
       " 10: ('taille:', 4, 'position:', (38, 39), 'masse:', 3.4482120965801564e+16),\n",
       " 11: ('taille:', 8, 'position:', (33, 45), 'masse:', 7717322353543327.0),\n",
       " 12: ('taille:', 18, 'position:', (18, 12), 'masse:', 2090729910964007.2),\n",
       " 13: ('taille:', 19, 'position:', (25, 18), 'masse:', 6433981754551896.0),\n",
       " 14: ('taille:', 5, 'position:', (18, 6), 'masse:', 42411500823462.2),\n",
       " 15: ('taille:', 13, 'position:', (51, 49), 'masse:', 196349540849362.06),\n",
       " 16: ('taille:', 5, 'position:', (6, 43), 'masse:', 42411500823462.2),\n",
       " 17: ('taille:', 27, 'position:', (26, 46), 'masse:', 4310265120725195.5),\n",
       " 18: ('taille:', 7, 'position:', (20, 55), 'masse:', 3451039529968388.0),\n",
       " 19: ('taille:', 20, 'position:', (32, 7), 'masse:', 196349540849362.06),\n",
       " 20: ('taille:', 7, 'position:', (56, 22), 'masse:', 2.171468842161265e+16),\n",
       " 21: ('taille:', 9, 'position:', (54, 22), 'masse:', 2090729910964007.2),\n",
       " 22: ('taille:', 15, 'position:', (6, 47), 'masse:', 100530964914873.38),\n",
       " 23: ('taille:', 1, 'position:', (59, 47), 'masse:', 2714336052701581.0),\n",
       " 24: ('taille:', 25, 'position:', (5, 8), 'masse:', 1.4547144782447536e+16)}"
      ]
     },
     "execution_count": 145,
     "metadata": {},
     "output_type": "execute_result"
    }
   ],
   "source": [
    "dict_simal(24, 5, 60, densite)"
   ]
  },
  {
   "cell_type": "code",
   "execution_count": 147,
   "metadata": {},
   "outputs": [],
   "source": [
    "def one_simal_pos_time(ray_min, ray_max,time,v):\n",
    "    x, y = one_simal_pos_init(ray_min, ray_max)\n",
    "    for _ in range(time):\n",
    "        x=0\n",
    "        y=0\n",
    "        "
   ]
  }
 ],
 "metadata": {
  "anaconda-cloud": {},
  "kernelspec": {
   "display_name": "Python 3",
   "language": "python",
   "name": "python3"
  },
  "language_info": {
   "codemirror_mode": {
    "name": "ipython",
    "version": 3
   },
   "file_extension": ".py",
   "mimetype": "text/x-python",
   "name": "python",
   "nbconvert_exporter": "python",
   "pygments_lexer": "ipython3",
   "version": "3.7.1"
  }
 },
 "nbformat": 4,
 "nbformat_minor": 1
}
