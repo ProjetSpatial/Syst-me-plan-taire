{
 "cells": [
  {
   "cell_type": "code",
   "execution_count": 3,
   "metadata": {},
   "outputs": [],
   "source": [
    "import random\n",
    "import math"
   ]
  },
  {
   "cell_type": "markdown",
   "metadata": {},
   "source": [
    "simal = planetesimal\n",
    "\n",
    "one_... = fonction pour un seul planetesimal\n",
    "\n",
    "pos = position\n",
    "\n",
    "init = initial"
   ]
  },
  {
   "cell_type": "code",
   "execution_count": 4,
   "metadata": {},
   "outputs": [],
   "source": [
    "def one_simal():\n",
    "    taille=0\n",
    "    taille = random.randint(1,30)\n",
    "    return taille"
   ]
  },
  {
   "cell_type": "code",
   "execution_count": 5,
   "metadata": {},
   "outputs": [
    {
     "data": {
      "text/plain": [
       "6"
      ]
     },
     "execution_count": 5,
     "metadata": {},
     "output_type": "execute_result"
    }
   ],
   "source": [
    "one_simal()"
   ]
  },
  {
   "cell_type": "code",
   "execution_count": 6,
   "metadata": {},
   "outputs": [],
   "source": [
    "def simal_taille(n):\n",
    "    #n : nombre de planetesimaux choisis\n",
    "    list_size = list()\n",
    "    for _ in range(n):\n",
    "        list_size.append(one_simal())\n",
    "    return list_size"
   ]
  },
  {
   "cell_type": "code",
   "execution_count": 7,
   "metadata": {},
   "outputs": [
    {
     "ename": "NameError",
     "evalue": "name 'one_planetesimal' is not defined",
     "output_type": "error",
     "traceback": [
      "\u001b[1;31m---------------------------------------------------------------------------\u001b[0m",
      "\u001b[1;31mNameError\u001b[0m                                 Traceback (most recent call last)",
      "\u001b[1;32m<ipython-input-7-66621a33cb94>\u001b[0m in \u001b[0;36m<module>\u001b[1;34m\u001b[0m\n\u001b[1;32m----> 1\u001b[1;33m \u001b[0msimal_taille\u001b[0m\u001b[1;33m(\u001b[0m\u001b[1;36m17\u001b[0m\u001b[1;33m)\u001b[0m\u001b[1;33m\u001b[0m\u001b[1;33m\u001b[0m\u001b[0m\n\u001b[0m",
      "\u001b[1;32m<ipython-input-6-c785ef915be5>\u001b[0m in \u001b[0;36msimal_taille\u001b[1;34m(n)\u001b[0m\n\u001b[0;32m      3\u001b[0m     \u001b[0mlist_size\u001b[0m \u001b[1;33m=\u001b[0m \u001b[0mlist\u001b[0m\u001b[1;33m(\u001b[0m\u001b[1;33m)\u001b[0m\u001b[1;33m\u001b[0m\u001b[1;33m\u001b[0m\u001b[0m\n\u001b[0;32m      4\u001b[0m     \u001b[1;32mfor\u001b[0m \u001b[0m_\u001b[0m \u001b[1;32min\u001b[0m \u001b[0mrange\u001b[0m\u001b[1;33m(\u001b[0m\u001b[0mn\u001b[0m\u001b[1;33m)\u001b[0m\u001b[1;33m:\u001b[0m\u001b[1;33m\u001b[0m\u001b[1;33m\u001b[0m\u001b[0m\n\u001b[1;32m----> 5\u001b[1;33m         \u001b[0mlist_size\u001b[0m\u001b[1;33m.\u001b[0m\u001b[0mappend\u001b[0m\u001b[1;33m(\u001b[0m\u001b[0mone_planetesimal\u001b[0m\u001b[1;33m(\u001b[0m\u001b[1;33m)\u001b[0m\u001b[1;33m)\u001b[0m\u001b[1;33m\u001b[0m\u001b[1;33m\u001b[0m\u001b[0m\n\u001b[0m\u001b[0;32m      6\u001b[0m     \u001b[1;32mreturn\u001b[0m \u001b[0mlist_size\u001b[0m\u001b[1;33m\u001b[0m\u001b[1;33m\u001b[0m\u001b[0m\n",
      "\u001b[1;31mNameError\u001b[0m: name 'one_planetesimal' is not defined"
     ]
    }
   ],
   "source": [
    "simal_taille(17)"
   ]
  },
  {
   "cell_type": "code",
   "execution_count": 8,
   "metadata": {},
   "outputs": [],
   "source": [
    "def one_simal_pos_init(ray_min, ray_max):\n",
    "    x = 0 #position sur l axe x\n",
    "    y = 0 #position sur l axe y\n",
    "    \n",
    "    x = random.randint(ray_min, ray_max) * random.choice([-1, 1])\n",
    "    y = random.randint(ray_min, ray_max) * random.choice([-1, 1])\n",
    "    \n",
    "    return (x,y)"
   ]
  },
  {
   "cell_type": "code",
   "execution_count": 9,
   "metadata": {},
   "outputs": [
    {
     "data": {
      "text/plain": [
       "(59, -18)"
      ]
     },
     "execution_count": 9,
     "metadata": {},
     "output_type": "execute_result"
    }
   ],
   "source": [
    "one_simal_pos_init(10, 70)"
   ]
  },
  {
   "cell_type": "code",
   "execution_count": 10,
   "metadata": {},
   "outputs": [],
   "source": [
    "def simal_pos_init(n, ray_min, ray_max):\n",
    "    list_simal_pos = list()\n",
    "    for _ in range(n):\n",
    "        list_simal_pos.append(one_simal_pos_init(ray_min, ray_max))\n",
    "    return list_simal_pos"
   ]
  },
  {
   "cell_type": "code",
   "execution_count": 11,
   "metadata": {},
   "outputs": [
    {
     "data": {
      "text/plain": [
       "[(-11, -9),\n",
       " (32, 32),\n",
       " (33, 8),\n",
       " (-7, 31),\n",
       " (-35, 18),\n",
       " (25, 19),\n",
       " (-11, -14),\n",
       " (-31, 9),\n",
       " (8, 8),\n",
       " (27, 8),\n",
       " (8, 34),\n",
       " (-10, 11),\n",
       " (7, -29),\n",
       " (-24, 14),\n",
       " (-18, 11),\n",
       " (20, -29),\n",
       " (31, -9),\n",
       " (-31, 23),\n",
       " (-33, -17)]"
      ]
     },
     "execution_count": 11,
     "metadata": {},
     "output_type": "execute_result"
    }
   ],
   "source": [
    "simal_pos_init(19, 7, 36)"
   ]
  },
  {
   "cell_type": "code",
   "execution_count": 12,
   "metadata": {},
   "outputs": [],
   "source": [
    "densite = 3e12 #kg/km^3 densite des planetesimaux"
   ]
  },
  {
   "cell_type": "code",
   "execution_count": 13,
   "metadata": {},
   "outputs": [],
   "source": [
    "def one_simal_masse(densite):\n",
    "    rayon = one_simal()\n",
    "    return densite * (math.pi/6) * rayon * rayon * rayon"
   ]
  },
  {
   "cell_type": "code",
   "execution_count": 14,
   "metadata": {},
   "outputs": [
    {
     "data": {
      "text/plain": [
       "1.6725839287712058e+16"
      ]
     },
     "execution_count": 14,
     "metadata": {},
     "output_type": "execute_result"
    }
   ],
   "source": [
    "one_simal_masse(densite)"
   ]
  },
  {
   "cell_type": "code",
   "execution_count": 15,
   "metadata": {},
   "outputs": [],
   "source": [
    "def simal_masse(n, densite):\n",
    "    list_simal_masse = list()\n",
    "    for _ in range(n):\n",
    "        list_simal_masse.append(one_simal_masse(densite))\n",
    "    return list_simal_masse"
   ]
  },
  {
   "cell_type": "code",
   "execution_count": 16,
   "metadata": {},
   "outputs": [
    {
     "data": {
      "text/plain": [
       "[804247719318987.0,\n",
       " 339292006587697.6,\n",
       " 2.454369260617026e+16,\n",
       " 2.171468842161265e+16,\n",
       " 42411500823462.2,\n",
       " 1.2566370614359172e+16,\n",
       " 42411500823462.2,\n",
       " 2090729910964007.2,\n",
       " 1570796326794896.5,\n",
       " 3.4482120965801564e+16,\n",
       " 3.0917984100303948e+16,\n",
       " 100530964914873.38,\n",
       " 9160884177867836.0,\n",
       " 3451039529968388.0,\n",
       " 1.6725839287712058e+16,\n",
       " 2090729910964007.2,\n",
       " 7717322353543327.0,\n",
       " 2090729910964007.2,\n",
       " 1145110522233479.5,\n",
       " 9160884177867836.0,\n",
       " 3.0917984100303948e+16,\n",
       " 1.2566370614359172e+16,\n",
       " 9160884177867836.0,\n",
       " 3.831015161420074e+16]"
      ]
     },
     "execution_count": 16,
     "metadata": {},
     "output_type": "execute_result"
    }
   ],
   "source": [
    "simal_masse(24, densite)"
   ]
  },
  {
   "cell_type": "code",
   "execution_count": 17,
   "metadata": {},
   "outputs": [],
   "source": [
    "def dict_simal(n, ray_min, ray_max, densite):\n",
    "    simal = dict()\n",
    "    for i in range(1, n+1):\n",
    "        simal[i] = (\"taille:\",one_simal(), \"position:\",one_simal_pos_init(ray_min, ray_max), \"masse:\",one_simal_masse(densite))\n",
    "    return simal"
   ]
  },
  {
   "cell_type": "code",
   "execution_count": 18,
   "metadata": {
    "scrolled": true
   },
   "outputs": [
    {
     "data": {
      "text/plain": [
       "{1: ('taille:', 27, 'position:', (-26, 50), 'masse:', 538783140090649.44),\n",
       " 2: ('taille:', 22, 'position:', (42, -41), 'masse:', 3.0917984100303948e+16),\n",
       " 3: ('taille:', 13, 'position:', (-14, -55), 'masse:', 2.7608316239747104e+16),\n",
       " 4: ('taille:', 28, 'position:', (43, -19), 'masse:', 1.9111878908113504e+16),\n",
       " 5: ('taille:', 26, 'position:', (42, -7), 'masse:', 339292006587697.6),\n",
       " 6: ('taille:', 21, 'position:', (10, -58), 'masse:', 6433981754551896.0),\n",
       " 7: ('taille:', 30, 'position:', (46, -44), 'masse:', 1570796326794896.5),\n",
       " 8: ('taille:', 19, 'position:', (-54, -56), 'masse:', 1570796326794.8965),\n",
       " 9: ('taille:', 26, 'position:', (-51, -25), 'masse:', 100530964914873.38),\n",
       " 10: ('taille:', 20, 'position:', (-33, -57), 'masse:', 42411500823462.2),\n",
       " 11: ('taille:', 25, 'position:', (30, -24), 'masse:', 4310265120725195.5),\n",
       " 12: ('taille:', 22, 'position:', (38, 38), 'masse:', 2.454369260617026e+16),\n",
       " 13: ('taille:', 15, 'position:', (59, 12), 'masse:', 42411500823462.2),\n",
       " 14: ('taille:', 3, 'position:', (-53, -24), 'masse:', 1.0774092005486194e+16),\n",
       " 15: ('taille:', 26, 'position:', (-40, 39), 'masse:', 12566370614359.172),\n",
       " 16: ('taille:', 6, 'position:', (33, -23), 'masse:', 1.9111878908113504e+16),\n",
       " 17: ('taille:', 17, 'position:', (-48, 56), 'masse:', 1145110522233479.5),\n",
       " 18: ('taille:', 24, 'position:', (14, 53), 'masse:', 1.9111878908113504e+16),\n",
       " 19: ('taille:', 19, 'position:', (14, 8), 'masse:', 9160884177867836.0),\n",
       " 20: ('taille:', 7, 'position:', (29, 27), 'masse:', 1.9111878908113504e+16),\n",
       " 21: ('taille:', 2, 'position:', (52, -14), 'masse:', 804247719318987.0),\n",
       " 22: ('taille:', 11, 'position:', (41, -21), 'masse:', 7717322353543327.0),\n",
       " 23: ('taille:', 28, 'position:', (-37, 47), 'masse:', 2.7608316239747104e+16),\n",
       " 24: ('taille:', 5, 'position:', (-53, 42), 'masse:', 1.4547144782447536e+16)}"
      ]
     },
     "execution_count": 18,
     "metadata": {},
     "output_type": "execute_result"
    }
   ],
   "source": [
    "dict_simal(24, 5, 60, densite)"
   ]
  },
  {
   "cell_type": "code",
   "execution_count": 28,
   "metadata": {},
   "outputs": [],
   "source": [
    "def one_simal_pos_time(ray_min, ray_max,time, v):\n",
    "    x, y = one_simal_pos_init(ray_min, ray_max)\n",
    "    if x > 0:\n",
    "        angle_init = math.atan(y/x)\n",
    "    else:\n",
    "        angle_init = math.pi + math.atan(y/x)\n",
    "    list_pos = list()\n",
    "    list_pos.append((x,y))\n",
    "    d = math.sqrt(x*x+y*y)\n",
    "    \n",
    "    for t in range(1,time+1):\n",
    "        angle = angle_init + v*t\n",
    "        x = math.cos(angle) * d\n",
    "        y = math.sin(angle) * d\n",
    "        list_pos.append(((x,y), angle))\n",
    "    \n",
    "    return list_pos"
   ]
  },
  {
   "cell_type": "code",
   "execution_count": 29,
   "metadata": {
    "scrolled": true
   },
   "outputs": [
    {
     "data": {
      "text/plain": [
       "[(-3, -5),\n",
       " ((1.4142135623730945, -5.656854249492381), 4.957367643511554),\n",
       " ((5.0, -3.0000000000000013), 5.742765806909002),\n",
       " ((5.656854249492381, 1.414213562373094), 6.5281639703064505),\n",
       " ((3.0000000000000013, 5.0), 7.313562133703899),\n",
       " ((-1.4142135623730887, 5.656854249492382), 8.098960297101346),\n",
       " ((-4.999999999999999, 3.0000000000000013), 8.884358460498795),\n",
       " ((-5.65685424949238, -1.4142135623730985), 9.669756623896244),\n",
       " ((-3.0000000000000018, -4.999999999999999), 10.455154787293692),\n",
       " ((1.414213562373088, -5.656854249492382), 11.24055295069114)]"
      ]
     },
     "execution_count": 29,
     "metadata": {},
     "output_type": "execute_result"
    }
   ],
   "source": [
    "one_simal_pos_time(3, 25, 9, math.pi/4)"
   ]
  },
  {
   "cell_type": "code",
   "execution_count": null,
   "metadata": {},
   "outputs": [],
   "source": []
  }
 ],
 "metadata": {
  "anaconda-cloud": {},
  "kernelspec": {
   "display_name": "Python 3",
   "language": "python",
   "name": "python3"
  },
  "language_info": {
   "codemirror_mode": {
    "name": "ipython",
    "version": 3
   },
   "file_extension": ".py",
   "mimetype": "text/x-python",
   "name": "python",
   "nbconvert_exporter": "python",
   "pygments_lexer": "ipython3",
   "version": "3.7.1"
  }
 },
 "nbformat": 4,
 "nbformat_minor": 1
}
