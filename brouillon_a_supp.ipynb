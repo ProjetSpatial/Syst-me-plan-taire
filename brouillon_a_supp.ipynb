{
 "cells": [
  {
   "cell_type": "code",
   "execution_count": 2,
   "metadata": {},
   "outputs": [],
   "source": [
    "import random\n",
    "import math"
   ]
  },
  {
   "cell_type": "markdown",
   "metadata": {},
   "source": [
    "simal = planetesimal\n",
    "\n",
    "one_... = fonction pour un seul planetesimal\n",
    "\n",
    "pos = position\n",
    "\n",
    "init = initial"
   ]
  },
  {
   "cell_type": "code",
   "execution_count": 3,
   "metadata": {},
   "outputs": [],
   "source": [
    "def one_simal():\n",
    "    taille=0\n",
    "    taille = random.randint(1,30)\n",
    "    return taille"
   ]
  },
  {
   "cell_type": "code",
   "execution_count": 4,
   "metadata": {},
   "outputs": [
    {
     "data": {
      "text/plain": [
       "4"
      ]
     },
     "execution_count": 4,
     "metadata": {},
     "output_type": "execute_result"
    }
   ],
   "source": [
    "one_simal()"
   ]
  },
  {
   "cell_type": "code",
   "execution_count": 5,
   "metadata": {},
   "outputs": [],
   "source": [
    "def simal_taille(n):\n",
    "    #n : nombre de planetesimaux choisis\n",
    "    list_size = list()\n",
    "    for _ in range(n):\n",
    "        list_size.append(one_simal())\n",
    "    return list_size"
   ]
  },
  {
   "cell_type": "code",
   "execution_count": 6,
   "metadata": {},
   "outputs": [
    {
     "data": {
      "text/plain": [
       "[10, 13, 30, 21, 28, 27, 29, 2, 2, 16, 12, 19, 27, 5, 27, 21, 12]"
      ]
     },
     "execution_count": 6,
     "metadata": {},
     "output_type": "execute_result"
    }
   ],
   "source": [
    "simal_taille(17)"
   ]
  },
  {
   "cell_type": "code",
   "execution_count": 7,
   "metadata": {},
   "outputs": [],
   "source": [
    "def one_simal_pos_init(ray_min, ray_max):\n",
    "    x = 0 #position sur l axe x\n",
    "    y = 0 #position sur l axe y\n",
    "    \n",
    "    x = random.randint(ray_min, ray_max) * random.choice([-1, 1])\n",
    "    y = random.randint(ray_min, ray_max) * random.choice([-1, 1])\n",
    "    \n",
    "    return (x,y)"
   ]
  },
  {
   "cell_type": "code",
   "execution_count": 8,
   "metadata": {},
   "outputs": [
    {
     "data": {
      "text/plain": [
       "(-14, 51)"
      ]
     },
     "execution_count": 8,
     "metadata": {},
     "output_type": "execute_result"
    }
   ],
   "source": [
    "one_simal_pos_init(10, 70)"
   ]
  },
  {
   "cell_type": "code",
   "execution_count": 9,
   "metadata": {},
   "outputs": [],
   "source": [
    "def simal_pos_init(n, ray_min, ray_max):\n",
    "    list_simal_pos = list()\n",
    "    for _ in range(n):\n",
    "        list_simal_pos.append(one_simal_pos_init(ray_min, ray_max))\n",
    "    return list_simal_pos"
   ]
  },
  {
   "cell_type": "code",
   "execution_count": 10,
   "metadata": {},
   "outputs": [
    {
     "data": {
      "text/plain": [
       "[(22, -21),\n",
       " (20, -20),\n",
       " (-36, 36),\n",
       " (-10, 11),\n",
       " (-8, -15),\n",
       " (30, -15),\n",
       " (33, 30),\n",
       " (27, 19),\n",
       " (-8, 20),\n",
       " (-19, -35),\n",
       " (23, -29),\n",
       " (-18, 19),\n",
       " (16, 13),\n",
       " (-35, -18),\n",
       " (-21, 25),\n",
       " (-27, 26),\n",
       " (-25, 33),\n",
       " (-15, -12),\n",
       " (29, -35)]"
      ]
     },
     "execution_count": 10,
     "metadata": {},
     "output_type": "execute_result"
    }
   ],
   "source": [
    "simal_pos_init(19, 7, 36)"
   ]
  },
  {
   "cell_type": "code",
   "execution_count": 11,
   "metadata": {},
   "outputs": [],
   "source": [
    "densite = 3e12 #kg/km^3 densite des planetesimaux"
   ]
  },
  {
   "cell_type": "code",
   "execution_count": 12,
   "metadata": {},
   "outputs": [],
   "source": [
    "def one_simal_masse(densite):\n",
    "    rayon = one_simal()\n",
    "    return densite * (math.pi/6) * rayon * rayon * rayon"
   ]
  },
  {
   "cell_type": "code",
   "execution_count": 13,
   "metadata": {},
   "outputs": [
    {
     "data": {
      "text/plain": [
       "1.0774092005486194e+16"
      ]
     },
     "execution_count": 13,
     "metadata": {},
     "output_type": "execute_result"
    }
   ],
   "source": [
    "one_simal_masse(densite)"
   ]
  },
  {
   "cell_type": "code",
   "execution_count": 14,
   "metadata": {},
   "outputs": [],
   "source": [
    "def simal_masse(n, densite):\n",
    "    list_simal_masse = list()\n",
    "    for _ in range(n):\n",
    "        list_simal_masse.append(one_simal_masse(densite))\n",
    "    return list_simal_masse"
   ]
  },
  {
   "cell_type": "code",
   "execution_count": 15,
   "metadata": {},
   "outputs": [
    {
     "data": {
      "text/plain": [
       "[6433981754551896.0,\n",
       " 1570796326794.8965,\n",
       " 9160884177867836.0,\n",
       " 2.171468842161265e+16,\n",
       " 2090729910964007.2,\n",
       " 1145110522233479.5,\n",
       " 5301437602932775.0,\n",
       " 3.4482120965801564e+16,\n",
       " 3.0917984100303948e+16,\n",
       " 3.4482120965801564e+16,\n",
       " 1.9111878908113504e+16,\n",
       " 1.2566370614359172e+16,\n",
       " 1570796326794.8965,\n",
       " 339292006587697.6,\n",
       " 42411500823462.2,\n",
       " 5301437602932775.0,\n",
       " 2090729910964007.2,\n",
       " 7717322353543327.0,\n",
       " 1145110522233479.5,\n",
       " 1.4547144782447536e+16,\n",
       " 7717322353543327.0,\n",
       " 2.171468842161265e+16,\n",
       " 2.454369260617026e+16,\n",
       " 4310265120725195.5]"
      ]
     },
     "execution_count": 15,
     "metadata": {},
     "output_type": "execute_result"
    }
   ],
   "source": [
    "simal_masse(24, densite)"
   ]
  },
  {
   "cell_type": "code",
   "execution_count": 16,
   "metadata": {},
   "outputs": [],
   "source": [
    "def dict_simal(n, ray_min, ray_max, densite):\n",
    "    simal = dict()\n",
    "    for i in range(1, n+1):\n",
    "        simal[i] = (\"taille:\",one_simal(), \"position:\",one_simal_pos_init(ray_min, ray_max), \"masse:\",one_simal_masse(densite))\n",
    "    return simal"
   ]
  },
  {
   "cell_type": "code",
   "execution_count": 17,
   "metadata": {
    "scrolled": true
   },
   "outputs": [
    {
     "data": {
      "text/plain": [
       "{1: ('taille:', 7, 'position:', (-44, -48), 'masse:', 5301437602932775.0),\n",
       " 2: ('taille:', 2, 'position:', (18, 36), 'masse:', 2.171468842161265e+16),\n",
       " 3: ('taille:', 3, 'position:', (51, 15), 'masse:', 538783140090649.44),\n",
       " 4: ('taille:', 16, 'position:', (30, -28), 'masse:', 196349540849362.06),\n",
       " 5: ('taille:', 27, 'position:', (-42, -58), 'masse:', 4.24115008234622e+16),\n",
       " 6: ('taille:', 10, 'position:', (-6, -17), 'masse:', 3451039529968388.0),\n",
       " 7: ('taille:', 14, 'position:', (58, 40), 'masse:', 7717322353543327.0),\n",
       " 8: ('taille:', 6, 'position:', (22, -39), 'masse:', 4.24115008234622e+16),\n",
       " 9: ('taille:', 29, 'position:', (-55, -13), 'masse:', 2.171468842161265e+16),\n",
       " 10: ('taille:', 10, 'position:', (-43, 43), 'masse:', 2714336052701581.0),\n",
       " 11: ('taille:', 8, 'position:', (42, 28), 'masse:', 2714336052701581.0),\n",
       " 12: ('taille:', 17, 'position:', (27, -30), 'masse:', 2.7608316239747104e+16),\n",
       " 13: ('taille:',\n",
       "  26,\n",
       "  'position:',\n",
       "  (-35, -49),\n",
       "  'masse:',\n",
       "  3.4482120965801564e+16),\n",
       " 14: ('taille:',\n",
       "  20,\n",
       "  'position:',\n",
       "  (-45, -14),\n",
       "  'masse:',\n",
       "  1.4547144782447536e+16),\n",
       " 15: ('taille:', 21, 'position:', (13, 23), 'masse:', 5301437602932775.0),\n",
       " 16: ('taille:', 13, 'position:', (-37, 31), 'masse:', 339292006587697.6),\n",
       " 17: ('taille:', 3, 'position:', (38, 28), 'masse:', 4310265120725195.5),\n",
       " 18: ('taille:', 20, 'position:', (5, 50), 'masse:', 12566370614359.172),\n",
       " 19: ('taille:', 12, 'position:', (-50, 6), 'masse:', 1.4547144782447536e+16),\n",
       " 20: ('taille:', 21, 'position:', (27, 40), 'masse:', 3.4482120965801564e+16),\n",
       " 21: ('taille:', 12, 'position:', (9, -38), 'masse:', 804247719318987.0),\n",
       " 22: ('taille:', 4, 'position:', (-15, -7), 'masse:', 1.0774092005486194e+16),\n",
       " 23: ('taille:', 9, 'position:', (-28, 34), 'masse:', 2.454369260617026e+16),\n",
       " 24: ('taille:', 30, 'position:', (-54, 16), 'masse:', 3.0917984100303948e+16)}"
      ]
     },
     "execution_count": 17,
     "metadata": {},
     "output_type": "execute_result"
    }
   ],
   "source": [
    "dict_simal(24, 5, 60, densite)"
   ]
  },
  {
   "cell_type": "code",
   "execution_count": 27,
   "metadata": {},
   "outputs": [],
   "source": [
    "def one_simal_pos_time(ray_min, ray_max,time, v):\n",
    "    x, y = one_simal_pos_init(ray_min, ray_max)\n",
    "    if x > 0:\n",
    "        angle_init = math.atan(y/x)\n",
    "    else:\n",
    "        angle_init = math.pi + math.atan(y/x)\n",
    "    list_pos = list()\n",
    "    list_pos.append((x,y))\n",
    "    d = math.sqrt(x*x+y*y)\n",
    "    \n",
    "    for t in range(1,time+1):\n",
    "        angle = angle_init + v*t\n",
    "        x = math.cos(angle) * d\n",
    "        y = math.sin(angle) * d\n",
    "        list_pos.append((x,y))\n",
    "    \n",
    "    return list_pos"
   ]
  },
  {
   "cell_type": "code",
   "execution_count": 28,
   "metadata": {
    "scrolled": true
   },
   "outputs": [
    {
     "data": {
      "text/plain": [
       "[(-6, 11),\n",
       " (-12.020815280171307, 3.5355339059327404),\n",
       " (-11.000000000000002, -5.999999999999997),\n",
       " (-3.5355339059327413, -12.020815280171306),\n",
       " (5.9999999999999964, -11.000000000000002),\n",
       " (12.020815280171306, -3.5355339059327417),\n",
       " (11.000000000000002, 5.999999999999996),\n",
       " (3.5355339059327426, 12.020815280171306),\n",
       " (-5.999999999999996, 11.000000000000002),\n",
       " (-12.020815280171304, 3.5355339059327537),\n",
       " (-11.000000000000002, -5.999999999999995),\n",
       " (-3.535533905932755, -12.020815280171304),\n",
       " (5.999999999999994, -11.000000000000004),\n",
       " (12.020815280171309, -3.535533905932734),\n",
       " (11.000000000000004, 5.999999999999993),\n",
       " (3.5355339059327564, 12.020815280171302),\n",
       " (-5.999999999999993, 11.000000000000004),\n",
       " (-12.020815280171309, 3.5355339059327355),\n",
       " (-11.000000000000004, -5.999999999999992),\n",
       " (-3.5355339059327786, -12.020815280171295),\n",
       " (6.000000000000011, -10.999999999999995)]"
      ]
     },
     "execution_count": 28,
     "metadata": {},
     "output_type": "execute_result"
    }
   ],
   "source": [
    "one_simal_pos_time(3, 25, 20, math.pi/4)"
   ]
  },
  {
   "cell_type": "code",
   "execution_count": 49,
   "metadata": {},
   "outputs": [],
   "source": [
    "def plusieurs_simal_pos(nb,rmin,rmax,time,v):\n",
    "    \"\"\"Fonction d'évolution de la position dans le temps pour plusieurs planétésimaux\"\"\"\n",
    "    planetesimaux=list()\n",
    "    for i in range(0,nb):\n",
    "        planetesimaux.append((one_simal_pos_time(rmin,rmax,time,v)))\n",
    "                             \n",
    "    return planetesimaux"
   ]
  },
  {
   "cell_type": "code",
   "execution_count": 50,
   "metadata": {},
   "outputs": [
    {
     "data": {
      "text/plain": [
       "[[(16, -13),\n",
       "  (20.50609665440988, 2.1213203435596424),\n",
       "  (13.000000000000002, 16.0),\n",
       "  (-2.121320343559641, 20.50609665440988),\n",
       "  (-15.999999999999998, 13.000000000000002),\n",
       "  (-20.50609665440988, -2.1213203435596397),\n",
       "  (-13.000000000000004, -15.999999999999998),\n",
       "  (2.1213203435596384, -20.50609665440988),\n",
       "  (15.999999999999996, -13.000000000000004),\n",
       "  (20.50609665440988, 2.1213203435596375),\n",
       "  (13.000000000000007, 15.999999999999996),\n",
       "  (-2.1213203435596175, 20.50609665440988),\n",
       "  (-15.999999999999986, 13.00000000000002),\n",
       "  (-20.50609665440988, -2.121320343559635),\n",
       "  (-12.999999999999993, -16.000000000000007)],\n",
       " [(-21, 16),\n",
       "  (-26.16295090390226, -3.5355339059327306),\n",
       "  (-16.000000000000007, -20.999999999999993),\n",
       "  (3.5355339059327293, -26.16295090390226),\n",
       "  (20.999999999999993, -16.000000000000007),\n",
       "  (26.16295090390226, 3.535533905932727),\n",
       "  (16.00000000000001, 20.999999999999993),\n",
       "  (-3.5355339059327253, 26.16295090390226),\n",
       "  (-21.000000000000007, 15.999999999999993),\n",
       "  (-26.16295090390226, -3.535533905932724),\n",
       "  (-16.000000000000032, -20.999999999999975),\n",
       "  (3.5355339059327227, -26.16295090390226),\n",
       "  (21.000000000000004, -15.999999999999995),\n",
       "  (26.162950903902253, 3.535533905932767),\n",
       "  (16.000000000000032, 20.999999999999975)],\n",
       " [(7, 16),\n",
       "  (-6.363961030678926, 16.263455967290593),\n",
       "  (-15.999999999999995, 7.000000000000004),\n",
       "  (-16.263455967290593, -6.363961030678921),\n",
       "  (-7.000000000000005, -15.999999999999995),\n",
       "  (6.3639610306789205, -16.263455967290593),\n",
       "  (15.999999999999995, -7.000000000000006),\n",
       "  (16.263455967290593, 6.36396103067892),\n",
       "  (7.000000000000007, 15.999999999999995),\n",
       "  (-6.363961030678933, 16.26345596729059),\n",
       "  (-15.999999999999995, 7.000000000000008),\n",
       "  (-16.2634559672906, -6.363961030678903),\n",
       "  (-7.000000000000009, -15.999999999999993),\n",
       "  (6.363961030678931, -16.26345596729059),\n",
       "  (15.999999999999993, -7.00000000000001)]]"
      ]
     },
     "execution_count": 50,
     "metadata": {},
     "output_type": "execute_result"
    }
   ],
   "source": [
    "plusieurs_simal_pos(3,3,25,14,math.pi/4)"
   ]
  },
  {
   "cell_type": "code",
   "execution_count": 58,
   "metadata": {},
   "outputs": [],
   "source": [
    "def plusieurs_simal_time(nb,rmin,rmax,t,v):\n",
    "    \"\"\"Fonction de la position des planetesimaux a un temps t donne\"\"\"\n",
    "    simaux_a_t=list()\n",
    "    simaux=plusieurs_simal_pos(nb,rmin,rmax,t,v)\n",
    "    print(simaux)\n",
    "    for simal in simaux:\n",
    "        simaux_a_t.append(simal[t])\n",
    "    return simaux_a_t"
   ]
  },
  {
   "cell_type": "code",
   "execution_count": 59,
   "metadata": {},
   "outputs": [
    {
     "name": "stdout",
     "output_type": "stream",
     "text": [
      "[[(-22, 19), (-28.99137802864845, -2.1213203435596353), (-18.999999999999996, -22.000000000000004), (2.1213203435596206, -28.99137802864845), (22.000000000000004, -18.999999999999996), (28.99137802864845, 2.1213203435596193)], [(-8, 14), (-15.556349186104041, 4.242640687119293), (-14.000000000000002, -7.999999999999992), (-4.242640687119294, -15.556349186104041), (7.999999999999991, -14.000000000000004), (15.556349186104041, -4.2426406871192945)], [(3, -4), (4.949747468305833, -0.7071067811865475), (4.0, 3.0), (0.7071067811865483, 4.949747468305833), (-2.999999999999999, 4.000000000000001), (-4.949747468305833, 0.7071067811865486)]]\n"
     ]
    },
    {
     "data": {
      "text/plain": [
       "[(28.99137802864845, 2.1213203435596193),\n",
       " (15.556349186104041, -4.2426406871192945),\n",
       " (-4.949747468305833, 0.7071067811865486)]"
      ]
     },
     "execution_count": 59,
     "metadata": {},
     "output_type": "execute_result"
    }
   ],
   "source": [
    "plusieurs_simal_time(3,3,25,5,math.pi/4)"
   ]
  },
  {
   "cell_type": "code",
   "execution_count": null,
   "metadata": {},
   "outputs": [],
   "source": []
  }
 ],
 "metadata": {
  "anaconda-cloud": {},
  "kernelspec": {
   "display_name": "Python 3",
   "language": "python",
   "name": "python3"
  },
  "language_info": {
   "codemirror_mode": {
    "name": "ipython",
    "version": 3
   },
   "file_extension": ".py",
   "mimetype": "text/x-python",
   "name": "python",
   "nbconvert_exporter": "python",
   "pygments_lexer": "ipython3",
   "version": "3.5.3"
  }
 },
 "nbformat": 4,
 "nbformat_minor": 1
}
