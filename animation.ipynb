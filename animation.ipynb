{
 "cells": [
  {
   "cell_type": "code",
   "execution_count": 1,
   "metadata": {},
   "outputs": [
    {
     "name": "stdout",
     "output_type": "stream",
     "text": [
      "pygame 1.9.4\n",
      "Hello from the pygame community. https://www.pygame.org/contribute.html\n"
     ]
    }
   ],
   "source": [
    "import random\n",
    "import math\n",
    "from tkinter import *\n",
    "import pygame\n",
    "from pygame.locals import *"
   ]
  },
  {
   "cell_type": "code",
   "execution_count": 2,
   "metadata": {},
   "outputs": [],
   "source": [
    "def one_simal_taille():\n",
    "    taille=0\n",
    "    taille = random.randint(1,3)\n",
    "    return taille"
   ]
  },
  {
   "cell_type": "code",
   "execution_count": 3,
   "metadata": {},
   "outputs": [],
   "source": [
    "def one_simal_pos_init(ray_min, ray_max):\n",
    "    x = random.randint(1, 1000) * random.choice([-1, 1]) #position sur l axe x\n",
    "    y = random.randint(1, 1000) * random.choice([-1, 1]) #position sur l axe y\n",
    "    \n",
    "    while math.sqrt(x*x + y*y) > ray_max or math.sqrt(x*x + y*y) < ray_min:\n",
    "        x = random.randint(1, 1000) * random.choice([-1, 1])\n",
    "        y = random.randint(1, 1000) * random.choice([-1, 1])\n",
    "    \n",
    "    return (x,y)"
   ]
  },
  {
   "cell_type": "code",
   "execution_count": 4,
   "metadata": {},
   "outputs": [],
   "source": [
    "densite = 3e12 #kg/km^3 densite des planetesimaux"
   ]
  },
  {
   "cell_type": "code",
   "execution_count": 5,
   "metadata": {},
   "outputs": [],
   "source": [
    "def vitesse_one_simal(taille, pos):\n",
    "    x, y = pos\n",
    "    masse = densite * (math.pi/6) * taille * taille * taille #changer à la masse du soleil\n",
    "    G = 6.67*10**-11\n",
    "    d = (x*x + y*y)**0.5\n",
    "    v = (G*masse / d)**0.5 / d\n",
    "    return v"
   ]
  },
  {
   "cell_type": "code",
   "execution_count": 6,
   "metadata": {},
   "outputs": [],
   "source": [
    "def simal_angle(pos):\n",
    "    x, y = pos\n",
    "    if x > 0:\n",
    "        angle = math.atan(y/x)\n",
    "    elif x < 0:\n",
    "        angle = math.pi + math.atan(y/x)\n",
    "    elif x == 0 and y > 0:\n",
    "        angle = math.pi/2\n",
    "    elif x == 0 and y < 0:\n",
    "        angle = 3*math.pi/2\n",
    "    return angle"
   ]
  },
  {
   "cell_type": "code",
   "execution_count": 7,
   "metadata": {},
   "outputs": [
    {
     "data": {
      "text/plain": [
       "1.5707963267948966"
      ]
     },
     "execution_count": 7,
     "metadata": {},
     "output_type": "execute_result"
    }
   ],
   "source": [
    "simal_angle((0, 50))"
   ]
  },
  {
   "cell_type": "code",
   "execution_count": 8,
   "metadata": {},
   "outputs": [],
   "source": [
    "def one_simal_pos_next_time(pre, v, angle_pre):\n",
    "    x, y = pre\n",
    "    d = (x*x+y*y)**0.5\n",
    "    \n",
    "    angle = angle_pre + v\n",
    "\n",
    "    x = math.cos(angle) * d\n",
    "    y = math.sin(angle) * d\n",
    "    \n",
    "    return (round(x),round(y))"
   ]
  },
  {
   "cell_type": "code",
   "execution_count": 9,
   "metadata": {},
   "outputs": [
    {
     "data": {
      "text/plain": [
       "1.0516502125483738"
      ]
     },
     "execution_count": 9,
     "metadata": {},
     "output_type": "execute_result"
    }
   ],
   "source": [
    "simal_angle((40, 70))"
   ]
  },
  {
   "cell_type": "code",
   "execution_count": 10,
   "metadata": {},
   "outputs": [
    {
     "data": {
      "text/plain": [
       "(-40, -70)"
      ]
     },
     "execution_count": 10,
     "metadata": {},
     "output_type": "execute_result"
    }
   ],
   "source": [
    "one_simal_pos_next_time((40, 70), math.pi, simal_angle((40, 70)))"
   ]
  },
  {
   "cell_type": "code",
   "execution_count": 11,
   "metadata": {},
   "outputs": [],
   "source": [
    "def position(init, v):\n",
    "    x, y = init\n",
    "    angle = simal_angle((x,y))\n",
    "    list_ = [(x,y)]\n",
    "    for _ in range(20):\n",
    "        x, y = one_simal_pos_next_time((x,y), v, angle)\n",
    "        angle = simal_angle((x,y))\n",
    "        list_.append((x,y))\n",
    "    return list_"
   ]
  },
  {
   "cell_type": "code",
   "execution_count": 12,
   "metadata": {},
   "outputs": [
    {
     "data": {
      "text/plain": [
       "[(-20, 50),\n",
       " (-50, -20),\n",
       " (20, -50),\n",
       " (50, 20),\n",
       " (-20, 50),\n",
       " (-50, -20),\n",
       " (20, -50),\n",
       " (50, 20),\n",
       " (-20, 50),\n",
       " (-50, -20),\n",
       " (20, -50),\n",
       " (50, 20),\n",
       " (-20, 50),\n",
       " (-50, -20),\n",
       " (20, -50),\n",
       " (50, 20),\n",
       " (-20, 50),\n",
       " (-50, -20),\n",
       " (20, -50),\n",
       " (50, 20),\n",
       " (-20, 50)]"
      ]
     },
     "execution_count": 12,
     "metadata": {},
     "output_type": "execute_result"
    }
   ],
   "source": [
    "position((-20, 50), math.pi/2)"
   ]
  },
  {
   "cell_type": "code",
   "execution_count": 13,
   "metadata": {},
   "outputs": [
    {
     "data": {
      "text/plain": [
       "(20, 0)"
      ]
     },
     "execution_count": 13,
     "metadata": {},
     "output_type": "execute_result"
    }
   ],
   "source": [
    "one_simal_pos_next_time((0, -20), math.pi/2, simal_angle((0, -20)))"
   ]
  },
  {
   "cell_type": "code",
   "execution_count": 14,
   "metadata": {},
   "outputs": [],
   "source": [
    "def all_simal_init(ray_min, ray_max):\n",
    "    x, y = one_simal_pos_init(ray_min, ray_max)\n",
    "    taille = one_simal_taille()\n",
    "    angle_i = simal_angle((x,y))\n",
    "    v = vitesse_one_simal(taille, (x, y))\n",
    "    return (x, y, angle_i, v, taille)"
   ]
  },
  {
   "cell_type": "code",
   "execution_count": 15,
   "metadata": {},
   "outputs": [],
   "source": [
    "def n_all_simal_init(n, ray_min, ray_max):\n",
    "    list_n = list()\n",
    "    for _ in range(n):\n",
    "        list_n.append(all_simal_init(ray_min, ray_max))\n",
    "    return list_n"
   ]
  },
  {
   "cell_type": "code",
   "execution_count": 16,
   "metadata": {},
   "outputs": [
    {
     "data": {
      "text/plain": [
       "[(-12, -1, 3.2247338854782344, 0.6928541893769001, 2),\n",
       " (4, 15, 1.3101939350475558, 0.8695447866442335, 3),\n",
       " (19, 2, 0.10487693873023389, 0.6369202973873955, 3),\n",
       " (7, 15, 1.1341691669813554, 0.7897539658316443, 3),\n",
       " (-17, 3, 2.9669204545815533, 0.7415535861613736, 3),\n",
       " (-8, 13, 2.122451309323443, 0.4854571570115932, 2),\n",
       " (2, -10, -1.373400766945016, 0.3143025112444348, 1),\n",
       " (-7, 11, 2.137525544318403, 1.129712792308596, 3),\n",
       " (2, 10, 1.373400766945016, 0.8889817481796038, 2),\n",
       " (6, -16, -1.2120256565243244, 0.7529525335724209, 3)]"
      ]
     },
     "execution_count": 16,
     "metadata": {},
     "output_type": "execute_result"
    }
   ],
   "source": [
    "n_all_simal_init(10, 5, 20)"
   ]
  },
  {
   "cell_type": "code",
   "execution_count": 17,
   "metadata": {},
   "outputs": [],
   "source": [
    "def collision(n, r, plusieurs_pos, taille):\n",
    "    n2 = n\n",
    "    \n",
    "    for i in range(n):\n",
    "        if i < n2:\n",
    "            x_i, y_i = plusieurs_pos[i]\n",
    "            e = 0\n",
    "\n",
    "            for e in range(n):\n",
    "                if e < n2:\n",
    "                    x_n, y_n = plusieurs_pos[e]   \n",
    "                    if abs(x_i - x_n) <= r and abs(y_i - y_n) <=r:\n",
    "                        taille.append(taille[i] + taille[e])\n",
    "                        plusieurs_pos.append((int((x_i + x_n)/2), int((y_i+y_n)/2)))\n",
    "                        del plusieurs_pos[e]\n",
    "                        del plusieurs_pos[i]            \n",
    "                        del taille[i]\n",
    "                        del taille[e]\n",
    "                        n2 = n2 - 1\n",
    "    \n",
    "    return plusieurs_pos"
   ]
  },
  {
   "cell_type": "code",
   "execution_count": null,
   "metadata": {},
   "outputs": [],
   "source": [
    "blue = (0,0,255)\n",
    "navy = (0, 0, 128)\n",
    "yellow = (255,255,0)\n",
    "brown = (139,69,19)\n",
    "tan = (210,180,140)\n",
    "gold = (255, 215, 0)\n",
    "steel = (70,130,180)\n",
    "\n",
    "pygame.init()\n",
    "\n",
    "fenetre = pygame.display.set_mode((1200, 600))\n",
    "pygame.display.set_caption(\"Système Planétaire\")\n",
    "\n",
    "ray_star = 70\n",
    "\n",
    "bg = pygame.image.load(\"background.jpg\")\n",
    "\n",
    "menu = pygame.image.load(\"clique.png\")\n",
    "fenetre.blit(menu, (0,0))\n",
    "\n",
    "n = 20\n",
    "\n",
    "ray_min = 150\n",
    "ray_max = 270\n",
    "\n",
    "n2 = n\n",
    "\n",
    "r = 3\n",
    "\n",
    "list_n = n_all_simal_init(n, ray_min, ray_max)\n",
    "\n",
    "pygame.display.flip()\n",
    "\n",
    "continuer = 1\n",
    "while continuer:\n",
    "    for event in pygame.event.get():\n",
    "        if event.type == QUIT:\n",
    "            continuer = 0\n",
    "        if event.type == MOUSEBUTTONDOWN:\n",
    "            for _ in range(300):\n",
    "                fenetre.blit(bg, (0,0))\n",
    "                \n",
    "                n = len(list_n)\n",
    "                \n",
    "                for i in range(n):\n",
    "                    x, y, new_angle, v, taille = list_n[i]\n",
    "                    \n",
    "                    x, y = one_simal_pos_next_time((x,y), v, new_angle)\n",
    "                    new_angle = simal_angle((x,y))\n",
    "                    \n",
    "                    for e in range(n):\n",
    "                        if e != i:\n",
    "                            x_n, y_n, _, _, taille_n = list_n[e]   \n",
    "\n",
    "                            if abs(x - x_n) <= r and abs(y - y_n) <=r:\n",
    "                                taille_c = 5\n",
    "\n",
    "                                x_c = round((x_n + x)/2)\n",
    "                                y_c = round((y_n + y)/2)\n",
    "\n",
    "                                v_c = vitesse_one_simal(taille_c, (x_c, y_c))\n",
    "\n",
    "                                new_angle_c = simal_angle((x_c, y_c))\n",
    "\n",
    "                                list_n.append((x_c, y_c, new_angle_c, v_c, taille_c))\n",
    "                    \n",
    "                    list_n[i] = (x, y, new_angle, v, taille)\n",
    "                    \n",
    "                    pygame.draw.circle(fenetre, gold, (600, 300 ), ray_star)\n",
    "                    pygame.draw.circle(fenetre, tan, (x + 600, y + 300), taille)  \n",
    "                    \n",
    "                pygame.display.update()\n",
    "                pygame.time.delay(100)  \n",
    "    \n",
    "    pygame.display.flip()\n",
    "\n",
    "pygame.display.quit()\n",
    "pygame.quit()"
   ]
  },
  {
   "cell_type": "code",
   "execution_count": null,
   "metadata": {},
   "outputs": [],
   "source": []
  }
 ],
 "metadata": {
  "anaconda-cloud": {},
  "kernelspec": {
   "display_name": "Python 3",
   "language": "python",
   "name": "python3"
  },
  "language_info": {
   "codemirror_mode": {
    "name": "ipython",
    "version": 3
   },
   "file_extension": ".py",
   "mimetype": "text/x-python",
   "name": "python",
   "nbconvert_exporter": "python",
   "pygments_lexer": "ipython3",
   "version": "3.7.1"
  }
 },
 "nbformat": 4,
 "nbformat_minor": 1
}
