{
 "cells": [
  {
   "cell_type": "code",
   "execution_count": 3,
   "metadata": {},
   "outputs": [],
   "source": [
    "import random\n",
    "import math\n",
    "import pygame\n",
    "from pygame.locals import *"
   ]
  },
  {
   "cell_type": "code",
   "execution_count": null,
   "metadata": {},
   "outputs": [],
   "source": [
    "print (\"- Nombre de Planétésimaux:\")\n",
    "print ('Entrez un nombre entier entre 100 et 10000:')\n",
    "n = int(input())\n",
    "print (\"- Temps:\")\n",
    "print (\"Entrez un nombre entier entre 50 et 100000:\")\n",
    "time = int(input())\n",
    "print (\"- Rayon de l'étoile:\")\n",
    "print (\"Entrer un nombre entier entre 10 et 80:\")\n",
    "ray_star = int(input())\n",
    "print (\"- Densité de l'étoile:\")\n",
    "print (\"Entrer un nombre entre 1 et 3:\")\n",
    "densite_star = input()"
   ]
  },
  {
   "cell_type": "code",
   "execution_count": 4,
   "metadata": {},
   "outputs": [],
   "source": [
    "blue = (0,0,255)\n",
    "navy = (0, 0, 128)\n",
    "yellow = (255,255,0)\n",
    "brown = (139,69,19)\n",
    "tan = (210,180,140)\n",
    "gold = (255, 215, 0)\n",
    "steel = (70,130,180)\n",
    "salmon = (233,150,122)\n",
    "rod = (184,134,11)\n",
    "wheat = (245,222,179)\n",
    "copper = (101, 21, 21)"
   ]
  },
  {
   "cell_type": "markdown",
   "metadata": {},
   "source": [
    "Calcul du rayon de l'étoile:\n",
    "$R = R_{choisie} R_{soleil}$avec $R_{soleil} = 7.10^4 km$\n",
    "\n",
    "Calcul de la masse de l'étoile:\n",
    "$M = densite\\frac {\\pi}{6}R^3$"
   ]
  },
  {
   "cell_type": "code",
   "execution_count": 6,
   "metadata": {},
   "outputs": [],
   "source": [
    "def etoile(ray_star,densite_star):\n",
    "    '''Retourne le rayon et la masse de l etoile'''\n",
    "    R=ray_star*(7*10**4)\n",
    "    M=(int(densite_star)*(math.pi)/6)*(R**3)\n",
    "    return (R,M)"
   ]
  },
  {
   "cell_type": "code",
   "execution_count": 7,
   "metadata": {},
   "outputs": [],
   "source": [
    "def disque_accretion(ray_star):\n",
    "    '''Retourne le rayon minimal et maximal du rayon d accretion'''\n",
    "    ray_min=3*ray_star\n",
    "    ray_max=9*ray_star\n",
    "    return (round(ray_min),round(ray_max))"
   ]
  },
  {
   "cell_type": "code",
   "execution_count": 5,
   "metadata": {},
   "outputs": [],
   "source": [
    "def one_simal_taille():\n",
    "    '''Retourne la taille du planetesimal'''\n",
    "    taille = random.randint(1,3)\n",
    "    return taille"
   ]
  },
  {
   "cell_type": "code",
   "execution_count": 8,
   "metadata": {},
   "outputs": [],
   "source": [
    "def one_simal_pos_init(ray_min, ray_max):\n",
    "    '''Retourne la position initial du planetesimal'''\n",
    "    x = random.randint(1, 1000) * random.choice([-1, 1]) #position sur l axe x\n",
    "    y = random.randint(1, 1000) * random.choice([-1, 1]) #position sur l axe y\n",
    "\n",
    "    while math.sqrt(x*x + y*y) > ray_max or math.sqrt(x*x + y*y) < ray_min:\n",
    "        x = random.randint(1, 1000) * random.choice([-1, 1])\n",
    "        y = random.randint(1, 1000) * random.choice([-1, 1])\n",
    "    return (x,y)"
   ]
  },
  {
   "cell_type": "code",
   "execution_count": 9,
   "metadata": {},
   "outputs": [],
   "source": [
    "densite = 3e12 #kg.km^-3 densite des planetesimaux"
   ]
  },
  {
   "cell_type": "markdown",
   "metadata": {},
   "source": [
    "Calcul de la vitesse:\n",
    "$v_{0}=\\sqrt{\\frac {GM^2}{(m+M)d}}$ avec $M$ la masse du soleil, $m$ la masse du planetesimal et $G=6,67.10^{-11}N.m^2.kg^{-2}$\n",
    "\n",
    "Calcul de la vitesse angulaire:\n",
    "$v_{0}=\\frac{1}{d}\\sqrt{\\frac {GM^2}{(m+M)d}}$ avec $d$ la distance séparant le planetesimal et l'étoile "
   ]
  },
  {
   "cell_type": "code",
   "execution_count": 10,
   "metadata": {},
   "outputs": [],
   "source": [
    "def vitesse_one_simal(taille, pos):\n",
    "    '''Retourne la vitesse du planetesial'''\n",
    "    x, y = pos\n",
    "    masse_simal = densite*(math.pi/6)*taille*taille*taille\n",
    "    _,masse_star = etoile(ray_star,densite_star)\n",
    "    G = 6.67*10**(-11)\n",
    "    d = (x*x + y*y)**0.5\n",
    "    v = (G*masse_star**2 / ((masse_simal + masse_star)*d))**0.5 / d\n",
    "    return v/1000"
   ]
  },
  {
   "cell_type": "markdown",
   "metadata": {},
   "source": [
    "Calcul de l'angle initial:\n",
    "\n",
    "- $\\theta_{0} = tan\\frac{y}{x}$ si $x > 0$\n",
    "\n",
    "\n",
    "- $\\theta_{0} = \\pi + tan\\frac{y}{x}$ si $x < 0$\n",
    "\n",
    "\n",
    "- $\\theta_{0} = \\frac{\\pi}{2}$ si $x = 0$ et $y>0$\n",
    "\n",
    "\n",
    "- $\\theta_{0} = \\frac{3\\pi}{2}$ si $x = 0$ et $y<0$\n",
    "\n",
    "avec $x$ et $y$ la position initial du planetesimal"
   ]
  },
  {
   "cell_type": "code",
   "execution_count": null,
   "metadata": {},
   "outputs": [],
   "source": [
    "def simal_angle(pos):\n",
    "    '''Retourne l angle initial du planetesimal '''\n",
    "    x, y = pos\n",
    "    angle = 0\n",
    "    if x > 0:\n",
    "        angle = math.atan(y/x)\n",
    "    elif x < 0:\n",
    "        angle = math.pi + math.atan(y/x)\n",
    "    elif x == 0 and y > 0:\n",
    "        angle = math.pi/2\n",
    "    elif x == 0 and y < 0:\n",
    "        angle = 3*math.pi/2\n",
    "    return angle"
   ]
  },
  {
   "cell_type": "markdown",
   "metadata": {},
   "source": [
    "Calcul de la position au prochain instant t:\n",
    "\n",
    "$\\theta(t) = \\theta(t-1) + v$ \n",
    "\n",
    "$x = dcos\\theta$\n",
    "\n",
    "$y = dsin\\theta$\n",
    "\n",
    "avec $d = \\sqrt{x^2 + y^2}$ et $v$ la vitesse du planetesimal"
   ]
  },
  {
   "cell_type": "code",
   "execution_count": null,
   "metadata": {},
   "outputs": [],
   "source": [
    "def one_simal_pos_next_time(pre, v, angle_pre):\n",
    "    '''Retourne la position du planetesimal au prochain temps'''\n",
    "    x, y = pre\n",
    "    d = (x*x+y*y)**0.5\n",
    "\n",
    "    angle = angle_pre + v\n",
    "\n",
    "    x = math.cos(angle) * d\n",
    "    y = math.sin(angle) * d\n",
    "    return (round(x),round(y))"
   ]
  },
  {
   "cell_type": "code",
   "execution_count": null,
   "metadata": {},
   "outputs": [],
   "source": [
    "def color_simal():\n",
    "    '''Retourne la couleur du planetesimal'''\n",
    "    colors = [tan, wheat, rod, copper]\n",
    "    color = random.choice(colors)\n",
    "    return color"
   ]
  },
  {
   "cell_type": "code",
   "execution_count": null,
   "metadata": {},
   "outputs": [],
   "source": [
    "def all_simal_init(ray_min, ray_max):\n",
    "    '''Retourne un tuple de position, angle, vitesse, taille, couleur d un planetesimaux à l instant initial'''\n",
    "    x, y = one _simal_pos_init(ray_min, ray_max)\n",
    "    taille = one_simal_taille()\n",
    "    angle_i = simal_angle((x,y))\n",
    "    v = vitesse_one_simal(taille, (x, y))\n",
    "    color = color_simal()\n",
    "    return (x, y, angle_i, v, taille, color)"
   ]
  },
  {
   "cell_type": "code",
   "execution_count": null,
   "metadata": {},
   "outputs": [],
   "source": [
    "def n_all_simal_init(n, ray_min, ray_max):\n",
    "    '''Retourne une liste de tuple des positions, angles, vitesses, tailles, couleurs de n planetesimaux à l instant initial'''\n",
    "    list_n = list()\n",
    "    for _ in range(n):\n",
    "        list_n.append(all_simal_init(ray_min, ray_max))\n",
    "    return list_n"
   ]
  },
  {
   "cell_type": "code",
   "execution_count": null,
   "metadata": {},
   "outputs": [],
   "source": [
    "pygame.init()\n",
    "\n",
    "fenetre = pygame.display.set_mode((1200, 600))\n",
    "pygame.display.set_caption(\"Système Planétaire\")\n",
    "\n",
    "menu = pygame.image.load(\"clique.png\")\n",
    "fenetre.blit(menu, (0,0))\n",
    "\n",
    "bg = pygame.image.load(\"background.jpg\")\n",
    "\n",
    "ray_min, ray_max = disque_accretion(ray_star)\n",
    "\n",
    "list_n = n_all_simal_init(n, ray_min, ray_max)\n",
    "\n",
    "pygame.display.flip()\n",
    "continuer = 1\n",
    "while continuer:\n",
    "    for event in pygame.event.get():\n",
    "        if event.type == QUIT:\n",
    "            continuer = 0\n",
    "            pygame.display.quit()\n",
    "            pygame.quit()\n",
    "        if event.type == MOUSEBUTTONDOWN:\n",
    "            for _ in range(time):\n",
    "                fenetre.blit(bg, (0,0))\n",
    "                for i in range(n):\n",
    "                    if list_n[i]:\n",
    "                        x, y, new_angle, v, taille, color = list_n[i]\n",
    "\n",
    "                        x, y = one_simal_pos_next_time((x,y), v, new_angle)\n",
    "                        new_angle = simal_angle((x,y))\n",
    "\n",
    "                        list_n[i] = (x, y, new_angle, v, taille, color)\n",
    "\n",
    "                        for e in range(n):\n",
    "                            if e != i and list_n[e] and taille <= ray_star/3:\n",
    "                                x_n, y_n, _, _, taille_n, color_n = list_n[e]\n",
    "\n",
    "                                if abs(x - x_n) <= (taille) and abs(y - y_n) <= (taille):\n",
    "                                    taille_c = taille_n + taille\n",
    "                                    if taille >= taille_n:\n",
    "                                        x_c = x\n",
    "                                        y_c = y\n",
    "                                        color_c = color\n",
    "                                    else:\n",
    "                                        x_c = x_n\n",
    "                                        y_c = y_n\n",
    "                                        color_c = color_n\n",
    "\n",
    "                                    v_c = vitesse_one_simal(taille_c, (x_c, y_c) )   \n",
    "                                    new_angle_c = simal_angle((x_c,y_c))\n",
    "                                    list_n[i] = (x_c, y_c, new_angle_c, v_c, taille_c, color_c)\n",
    "                                    list_n[e] = None\n",
    "                        x = x + 600 \n",
    "                        y = y + 300\n",
    "\n",
    "                        pygame.draw.circle(fenetre, gold, (600, 300 ), ray_star)\n",
    "                        pygame.draw.circle(fenetre, color, (x, y), taille)\n",
    "\n",
    "                pygame.display.update()\n",
    "        pygame.time.delay(100)"
   ]
  }
 ],
 "metadata": {
  "kernelspec": {
   "display_name": "Python 3",
   "language": "python",
   "name": "python3"
  },
  "language_info": {
   "codemirror_mode": {
    "name": "ipython",
    "version": 3
   },
   "file_extension": ".py",
   "mimetype": "text/x-python",
   "name": "python",
   "nbconvert_exporter": "python",
   "pygments_lexer": "ipython3",
   "version": "3.7.1"
  }
 },
 "nbformat": 4,
 "nbformat_minor": 2
}
